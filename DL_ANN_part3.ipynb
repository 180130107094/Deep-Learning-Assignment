{
  "nbformat": 4,
  "nbformat_minor": 0,
  "metadata": {
    "colab": {
      "provenance": []
    },
    "kernelspec": {
      "name": "python3",
      "display_name": "Python 3"
    },
    "language_info": {
      "name": "python"
    }
  },
  "cells": [
    {
      "cell_type": "code",
      "execution_count": 16,
      "metadata": {
        "id": "LmEZkVF_MWV8"
      },
      "outputs": [],
      "source": [
        "import numpy as np\n",
        "import pandas as pd\n",
        "import matplotlib.pyplot as plt\n",
        "#keras packages\n",
        "import keras\n",
        "from keras.models import Sequential\n",
        "from keras.layers import Convolution2D\n",
        "from keras.layers import MaxPooling2D\n",
        "from keras.layers import Flatten\n",
        "from keras.layers import Dense\n",
        "from keras.wrappers.scikit_learn import KerasClassifier\n",
        "from keras.layers import Dropout\n",
        "#model evaluation packages\n",
        "from sklearn.metrics import f1_score, roc_auc_score, log_loss\n",
        "from sklearn.model_selection import cross_val_score, cross_validate\n",
        "import tensorflow as tf"
      ]
    },
    {
      "cell_type": "code",
      "source": [
        "import tensorflow.keras as tk\n",
        "mnist = tk.datasets.mnist\n",
        "(x_train, y_train), (x_test, y_test) = mnist.load_data()"
      ],
      "metadata": {
        "id": "mEJV_fnGOHuW",
        "colab": {
          "base_uri": "https://localhost:8080/"
        },
        "outputId": "65029bba-f1ed-4087-f3ed-af537846909a"
      },
      "execution_count": null,
      "outputs": [
        {
          "output_type": "stream",
          "name": "stdout",
          "text": [
            "Downloading data from https://storage.googleapis.com/tensorflow/tf-keras-datasets/mnist.npz\n",
            "11490434/11490434 [==============================] - 0s 0us/step\n"
          ]
        }
      ]
    },
    {
      "cell_type": "code",
      "source": [
        "print(x_train.shape, y_train.shape, x_test.shape, y_test.shape)"
      ],
      "metadata": {
        "colab": {
          "base_uri": "https://localhost:8080/"
        },
        "id": "UJEAcz_zPEfS",
        "outputId": "07f76689-f7bd-4e5f-aa47-9a3eeeb5d3ec"
      },
      "execution_count": null,
      "outputs": [
        {
          "output_type": "stream",
          "name": "stdout",
          "text": [
            "(60000, 28, 28) (60000,) (10000, 28, 28) (10000,)\n"
          ]
        }
      ]
    },
    {
      "cell_type": "code",
      "source": [
        "#reshape data from 3-D to 2-D array\n",
        "x_train = x_train.reshape(60000, 784)\n",
        "x_test = x_test.reshape(10000, 784)\n",
        "#feature scaling\n",
        "from sklearn.preprocessing import MinMaxScaler\n",
        "minmax = MinMaxScaler()\n",
        "#fit and transform training dataset\n",
        "x_train = minmax.fit_transform(x_train)\n",
        "#transform testing dataset\n",
        "x_test = minmax.transform(x_test)\n",
        "print('Number of unique classes: ', len(np.unique(y_train)))\n",
        "print('Classes: ', np.unique(y_train))"
      ],
      "metadata": {
        "colab": {
          "base_uri": "https://localhost:8080/"
        },
        "id": "nT8zDxR6PQS-",
        "outputId": "a14dd21f-2cd0-4029-95d2-f43fdfc15089"
      },
      "execution_count": null,
      "outputs": [
        {
          "output_type": "stream",
          "name": "stdout",
          "text": [
            "Number of unique classes:  10\n",
            "Classes:  [0 1 2 3 4 5 6 7 8 9]\n"
          ]
        }
      ]
    },
    {
      "cell_type": "code",
      "source": [
        "print(x_test)"
      ],
      "metadata": {
        "colab": {
          "base_uri": "https://localhost:8080/"
        },
        "id": "1bOuUML5PRwQ",
        "outputId": "ad53d493-037d-41fe-bf33-e570e448c8d4"
      },
      "execution_count": null,
      "outputs": [
        {
          "output_type": "stream",
          "name": "stdout",
          "text": [
            "[[0. 0. 0. ... 0. 0. 0.]\n",
            " [0. 0. 0. ... 0. 0. 0.]\n",
            " [0. 0. 0. ... 0. 0. 0.]\n",
            " ...\n",
            " [0. 0. 0. ... 0. 0. 0.]\n",
            " [0. 0. 0. ... 0. 0. 0.]\n",
            " [0. 0. 0. ... 0. 0. 0.]]\n"
          ]
        }
      ]
    },
    {
      "cell_type": "code",
      "source": [
        "fig, axes = plt.subplots(nrows=2, ncols=5,figsize=(15,5))          \n",
        "ax = axes.ravel()\n",
        "for i in range(10):\n",
        "    ax[i].imshow(x_train[i].reshape(28,28))\n",
        "    ax[i].title.set_text('Class: ' + str(y_train[i]))              \n",
        "plt.subplots_adjust(hspace=0.5)                                    \n",
        "plt.show()\n"
      ],
      "metadata": {
        "colab": {
          "base_uri": "https://localhost:8080/",
          "height": 336
        },
        "id": "ZiH0QVc-PgzZ",
        "outputId": "4b0d649a-4eee-4208-b05a-293198f29fda"
      },
      "execution_count": null,
      "outputs": [
        {
          "output_type": "display_data",
          "data": {
            "text/plain": [
              "<Figure size 1080x360 with 10 Axes>"
            ],
            "image/png": "[encoded data removed]"
          },
          "metadata": {
            "needs_background": "light"
          }
        }
      ]
    },
    {
      "cell_type": "code",
      "source": [
        "from sklearn.model_selection import train_test_split\n",
        "\n",
        "x_train, x_cv, y_train, y_cv = train_test_split(x_train, y_train, test_size = 0.20, random_state = 35)\n",
        "\n",
        "print(x_train.shape)\n",
        "print(x_cv.shape)\n",
        "print(y_train.shape)\n",
        "print(y_cv.shape)"
      ],
      "metadata": {
        "colab": {
          "base_uri": "https://localhost:8080/"
        },
        "id": "rapQJ-Y0QBeN",
        "outputId": "04534666-a0a9-4cfb-bfba-ab9c05962281"
      },
      "execution_count": null,
      "outputs": [
        {
          "output_type": "stream",
          "name": "stdout",
          "text": [
            "(48000, 784)\n",
            "(12000, 784)\n",
            "(48000,)\n",
            "(12000,)\n"
          ]
        }
      ]
    },
    {
      "cell_type": "code",
      "source": [
        "# reshaping them as matrix\n",
        "\n",
        "x_train = np.asmatrix(x_train).reshape(48000, 784)\n",
        "x_cv = np.asmatrix(x_cv).reshape(12000, 784)\n",
        "\n",
        "x_test = np.asmatrix(x_test).reshape(10000, 784)"
      ],
      "metadata": {
        "id": "OuB3UXgzQf9u"
      },
      "execution_count": null,
      "outputs": []
    },
    {
      "cell_type": "code",
      "source": [
        "# feature normalization\n",
        "\n",
        "x_train = x_train.astype('float32')\n",
        "x_cv = x_cv.astype('float32')\n",
        "\n",
        "x_test = x_test.astype('float32')\n",
        "\n",
        "x_train = x_train/255\n",
        "x_cv = x_cv/255\n",
        "x_test = x_test/255"
      ],
      "metadata": {
        "id": "RLJ9vxX3Qprn"
      },
      "execution_count": null,
      "outputs": []
    },
    {
      "cell_type": "code",
      "source": [
        "# converting the labels into one hot encoding\n",
        "\n",
        "# immporting keras \n",
        "import keras\n",
        "\n",
        "digits = 10\n",
        "y_train = keras.utils.to_categorical(y_train, digits)\n",
        "y_cv = keras.utils.to_categorical(y_cv, digits)"
      ],
      "metadata": {
        "id": "ll_ljk7IRJa7"
      },
      "execution_count": null,
      "outputs": []
    },
    {
      "cell_type": "code",
      "source": [
        "print(y_train[0])  #6"
      ],
      "metadata": {
        "colab": {
          "base_uri": "https://localhost:8080/"
        },
        "id": "0NarylNVRPbR",
        "outputId": "1667c123-d2d1-471e-a66f-7a7aa9011d3b"
      },
      "execution_count": null,
      "outputs": [
        {
          "output_type": "stream",
          "name": "stdout",
          "text": [
            "[0. 0. 1. 0. 0. 0. 0. 0. 0. 0.]\n"
          ]
        }
      ]
    },
    {
      "cell_type": "code",
      "source": [
        "print(y_train[1])"
      ],
      "metadata": {
        "colab": {
          "base_uri": "https://localhost:8080/"
        },
        "id": "8NJ7WC2sRX3q",
        "outputId": "274707b3-d911-4aff-dc7b-9601ef58c822"
      },
      "execution_count": null,
      "outputs": [
        {
          "output_type": "stream",
          "name": "stdout",
          "text": [
            "[1. 0. 0. 0. 0. 0. 0. 0. 0. 0.]\n"
          ]
        }
      ]
    },
    {
      "cell_type": "code",
      "source": [
        "# creating the model\n",
        "model = Sequential()\n",
        "\n",
        "# first hidden layer\n",
        "model.add(Dense(activation = \"relu\", input_dim = 784, units = 400, kernel_initializer = \"uniform\"))\n",
        "\n",
        "# second hidden layer\n",
        "model.add(Dense(activation = \"relu\", units = 300, kernel_initializer = \"uniform\"))\n",
        "\n",
        "# third hidden layer\n",
        "model.add(Dense(activation = \"relu\", units = 300, kernel_initializer = \"uniform\"))\n",
        "\n",
        "# fourth hidden layer\n",
        "model.add(Dense(activation = \"relu\", units = 300, kernel_initializer = \"uniform\"))\n",
        "\n",
        "# fifth hidden layer\n",
        "model.add(Dense(activation = \"relu\", units = 100, kernel_initializer = \"uniform\"))\n",
        "\n",
        "# output layer\n",
        "# output_dim = no. of digits\n",
        "# softmax activation function is used for multiple outputs\n",
        "model.add(Dense(activation = \"softmax\", units = 10, kernel_initializer = \"uniform\"))"
      ],
      "metadata": {
        "id": "D-L_XaV_RfWI"
      },
      "execution_count": null,
      "outputs": []
    },
    {
      "cell_type": "code",
      "source": [
        "model.summary()"
      ],
      "metadata": {
        "colab": {
          "base_uri": "https://localhost:8080/"
        },
        "id": "mlC_ZKBsR_89",
        "outputId": "a4f77391-d4ba-458b-9fb3-03f23601810d"
      },
      "execution_count": null,
      "outputs": [
        {
          "output_type": "stream",
          "name": "stdout",
          "text": [
            "Model: \"sequential\"\n",
            "_________________________________________________________________\n",
            " Layer (type)                Output Shape              Param #   \n",
            "=================================================================\n",
            " dense (Dense)               (None, 400)               314000    \n",
            "                                                                 \n",
            " dense_1 (Dense)             (None, 300)               120300    \n",
            "                                                                 \n",
            " dense_2 (Dense)             (None, 300)               90300     \n",
            "                                                                 \n",
            " dense_3 (Dense)             (None, 300)               90300     \n",
            "                                                                 \n",
            " dense_4 (Dense)             (None, 100)               30100     \n",
            "                                                                 \n",
            " dense_5 (Dense)             (None, 10)                1010      \n",
            "                                                                 \n",
            "=================================================================\n",
            "Total params: 646,010\n",
            "Trainable params: 646,010\n",
            "Non-trainable params: 0\n",
            "_________________________________________________________________\n"
          ]
        }
      ]
    },
    {
      "cell_type": "code",
      "source": [
        "from keras import optimizers"
      ],
      "metadata": {
        "id": "5cApj0f3TT1n"
      },
      "execution_count": null,
      "outputs": []
    },
    {
      "cell_type": "code",
      "source": [
        "# # setting the learning rate\n",
        "# learning_rate = 0.5\n",
        "# sgd = optimizers.SGD(lr = learning_rate)\n",
        "\n",
        "\n",
        "# # compiling the model\n",
        "# # using the plain vanilla stochastic gradient descent as our optimizing technique\n",
        "# # using categorical cross entropy for multiple outputs\n",
        "# model.compile(optimizer = 'sgd', loss = 'categorical_crossentropy', metrics = ['accuracy'])\n",
        "\n",
        "# # feeding the training data to the model\n",
        "# model.fit(x_train, y_train, batch_size = 100, epochs = 60, verbose = 2, validation_data = (x_cv, y_cv))"
      ],
      "metadata": {
        "id": "863m0EdYTJ0J"
      },
      "execution_count": null,
      "outputs": []
    },
    {
      "cell_type": "code",
      "source": [
        "# setting the learning rate\n",
        "learning_rate = 0.01\n",
        "adam = optimizers.Adam(lr = learning_rate)\n",
        "\n",
        "\n",
        "# compiling the model\n",
        "# using the plain vanilla stochastic gradient descent as our optimizing technique\n",
        "# using categorical cross entropy for multiple outputs\n",
        "model.compile(optimizer = 'adam', loss = 'categorical_crossentropy', metrics = ['accuracy'])\n",
        "\n",
        "# feeding the training data to the model\n",
        "history = model.fit(x_train, y_train, batch_size = 100, epochs = 20, verbose = 2, validation_data = (x_cv, y_cv))"
      ],
      "metadata": {
        "colab": {
          "base_uri": "https://localhost:8080/"
        },
        "id": "llmWL3t6TgHR",
        "outputId": "3157f23b-1c28-4b16-b8df-c215291cf643"
      },
      "execution_count": null,
      "outputs": [
        {
          "output_type": "stream",
          "name": "stderr",
          "text": [
            "/usr/local/lib/python3.8/dist-packages/keras/optimizers/optimizer_v2/adam.py:117: UserWarning: The `lr` argument is deprecated, use `learning_rate` instead.\n",
            "  super().__init__(name, **kwargs)\n"
          ]
        },
        {
          "output_type": "stream",
          "name": "stdout",
          "text": [
            "Epoch 1/20\n",
            "480/480 - 10s - loss: 1.7452 - accuracy: 0.2950 - val_loss: 1.3504 - val_accuracy: 0.4160 - 10s/epoch - 20ms/step\n",
            "Epoch 2/20\n",
            "480/480 - 5s - loss: 1.0519 - accuracy: 0.5997 - val_loss: 0.7518 - val_accuracy: 0.7452 - 5s/epoch - 10ms/step\n",
            "Epoch 3/20\n",
            "480/480 - 4s - loss: 0.6494 - accuracy: 0.7834 - val_loss: 0.5553 - val_accuracy: 0.8227 - 4s/epoch - 9ms/step\n",
            "Epoch 4/20\n",
            "480/480 - 7s - loss: 0.4649 - accuracy: 0.8589 - val_loss: 0.3913 - val_accuracy: 0.8843 - 7s/epoch - 14ms/step\n",
            "Epoch 5/20\n",
            "480/480 - 5s - loss: 0.3460 - accuracy: 0.8981 - val_loss: 0.3292 - val_accuracy: 0.9052 - 5s/epoch - 10ms/step\n",
            "Epoch 6/20\n",
            "480/480 - 8s - loss: 0.2875 - accuracy: 0.9156 - val_loss: 0.2847 - val_accuracy: 0.9193 - 8s/epoch - 17ms/step\n",
            "Epoch 7/20\n",
            "480/480 - 6s - loss: 0.2452 - accuracy: 0.9286 - val_loss: 0.2599 - val_accuracy: 0.9257 - 6s/epoch - 13ms/step\n",
            "Epoch 8/20\n",
            "480/480 - 6s - loss: 0.2174 - accuracy: 0.9367 - val_loss: 0.2807 - val_accuracy: 0.9259 - 6s/epoch - 12ms/step\n",
            "Epoch 9/20\n",
            "480/480 - 6s - loss: 0.1918 - accuracy: 0.9449 - val_loss: 0.2181 - val_accuracy: 0.9388 - 6s/epoch - 12ms/step\n",
            "Epoch 10/20\n",
            "480/480 - 8s - loss: 0.1709 - accuracy: 0.9502 - val_loss: 0.1991 - val_accuracy: 0.9421 - 8s/epoch - 16ms/step\n",
            "Epoch 11/20\n",
            "480/480 - 6s - loss: 0.1495 - accuracy: 0.9564 - val_loss: 0.1915 - val_accuracy: 0.9458 - 6s/epoch - 12ms/step\n",
            "Epoch 12/20\n",
            "480/480 - 5s - loss: 0.1351 - accuracy: 0.9607 - val_loss: 0.1904 - val_accuracy: 0.9476 - 5s/epoch - 10ms/step\n",
            "Epoch 13/20\n",
            "480/480 - 4s - loss: 0.1260 - accuracy: 0.9636 - val_loss: 0.1864 - val_accuracy: 0.9498 - 4s/epoch - 9ms/step\n",
            "Epoch 14/20\n",
            "480/480 - 5s - loss: 0.1132 - accuracy: 0.9671 - val_loss: 0.1743 - val_accuracy: 0.9536 - 5s/epoch - 10ms/step\n",
            "Epoch 15/20\n",
            "480/480 - 5s - loss: 0.1053 - accuracy: 0.9684 - val_loss: 0.1746 - val_accuracy: 0.9536 - 5s/epoch - 11ms/step\n",
            "Epoch 16/20\n",
            "480/480 - 6s - loss: 0.0954 - accuracy: 0.9717 - val_loss: 0.1544 - val_accuracy: 0.9589 - 6s/epoch - 13ms/step\n",
            "Epoch 17/20\n",
            "480/480 - 5s - loss: 0.0894 - accuracy: 0.9731 - val_loss: 0.1537 - val_accuracy: 0.9603 - 5s/epoch - 10ms/step\n",
            "Epoch 18/20\n",
            "480/480 - 5s - loss: 0.0780 - accuracy: 0.9767 - val_loss: 0.1483 - val_accuracy: 0.9609 - 5s/epoch - 11ms/step\n",
            "Epoch 19/20\n",
            "480/480 - 6s - loss: 0.0719 - accuracy: 0.9791 - val_loss: 0.1737 - val_accuracy: 0.9556 - 6s/epoch - 12ms/step\n",
            "Epoch 20/20\n",
            "480/480 - 4s - loss: 0.0657 - accuracy: 0.9802 - val_loss: 0.1343 - val_accuracy: 0.9638 - 4s/epoch - 9ms/step\n"
          ]
        }
      ]
    },
    {
      "cell_type": "code",
      "source": [
        "plt.plot(history.history['accuracy'])\n",
        "plt.plot(history.history['val_accuracy'])\n",
        "plt.xlabel('Epochs')\n",
        "plt.ylabel('Accuracy')\n",
        "# plt.legend(['Features','Price_Weight'],loc='upper left')\n",
        "plt.show()"
      ],
      "metadata": {
        "colab": {
          "base_uri": "https://localhost:8080/",
          "height": 279
        },
        "id": "4g7duRg3a4Pq",
        "outputId": "6c00eb2c-efbc-4daa-a2c5-41ff42f46afd"
      },
      "execution_count": null,
      "outputs": [
        {
          "output_type": "display_data",
          "data": {
            "text/plain": [
              "<Figure size 432x288 with 1 Axes>"
            ],
            "image/png": "[encoded data removed]"
          },
          "metadata": {
            "needs_background": "light"
          }
        }
      ]
    },
    {
      "cell_type": "markdown",
      "source": [
        "#with sparse categorical cross entropy"
      ],
      "metadata": {
        "id": "SzQDLqgsXozE"
      }
    },
    {
      "cell_type": "code",
      "source": [
        "import tensorflow.keras as tk\n",
        "mnist = tk.datasets.mnist\n",
        "(x_train, y_train), (x_test, y_test) = mnist.load_data()"
      ],
      "metadata": {
        "id": "QFB-GEY3TkS8"
      },
      "execution_count": null,
      "outputs": []
    },
    {
      "cell_type": "code",
      "source": [
        "print(x_train.shape, y_train.shape, x_test.shape, y_test.shape)"
      ],
      "metadata": {
        "colab": {
          "base_uri": "https://localhost:8080/"
        },
        "outputId": "661b4781-9391-496e-826a-c5c9df95a51c",
        "id": "BgyOsS8JTkTB"
      },
      "execution_count": null,
      "outputs": [
        {
          "output_type": "stream",
          "name": "stdout",
          "text": [
            "(60000, 28, 28) (60000,) (10000, 28, 28) (10000,)\n"
          ]
        }
      ]
    },
    {
      "cell_type": "code",
      "source": [
        "from matplotlib import scale\n",
        "#reshape data from 3-D to 2-D array\n",
        "x_train = x_train.reshape(60000, 784)\n",
        "x_test = x_test.reshape(10000, 784)\n",
        "#feature scaling\n",
        "from sklearn.preprocessing import StandardScaler\n",
        "sc = StandardScaler()\n",
        "#fit and transform training dataset\n",
        "x_train = sc.fit_transform(x_train)\n",
        "#transform testing dataset\n",
        "x_test = sc.transform(x_test)\n",
        "print('Number of unique classes: ', len(np.unique(y_train)))\n",
        "print('Classes: ', np.unique(y_train))"
      ],
      "metadata": {
        "colab": {
          "base_uri": "https://localhost:8080/"
        },
        "outputId": "10ed76f5-3b7e-4a86-b24c-07fd7cc48908",
        "id": "caVjrtgLTkTC"
      },
      "execution_count": null,
      "outputs": [
        {
          "output_type": "stream",
          "name": "stdout",
          "text": [
            "Number of unique classes:  10\n",
            "Classes:  [0 1 2 3 4 5 6 7 8 9]\n"
          ]
        }
      ]
    },
    {
      "cell_type": "code",
      "source": [
        "fig, axes = plt.subplots(nrows=2, ncols=5,figsize=(15,5))          \n",
        "ax = axes.ravel()\n",
        "for i in range(10):\n",
        "    ax[i].imshow(x_train[i].reshape(28,28))\n",
        "    ax[i].title.set_text('Class: ' + str(y_train[i]))              \n",
        "plt.subplots_adjust(hspace=0.5)                                    \n",
        "plt.show()\n"
      ],
      "metadata": {
        "colab": {
          "base_uri": "https://localhost:8080/",
          "height": 336
        },
        "outputId": "96c9fe4f-8c32-4398-fe72-897c62f413ef",
        "id": "KvtDgoU5T83f"
      },
      "execution_count": null,
      "outputs": [
        {
          "output_type": "display_data",
          "data": {
            "text/plain": [
              "<Figure size 1080x360 with 10 Axes>"
            ],
            "image/png": "[encoded data removed]"
          },
          "metadata": {
            "needs_background": "light"
          }
        }
      ]
    },
    {
      "cell_type": "code",
      "source": [
        "from sklearn.model_selection import train_test_split\n",
        "\n",
        "x_train, x_cv, y_train, y_cv = train_test_split(x_train, y_train, test_size = 0.20, random_state = 35)\n",
        "\n",
        "print(x_train.shape)\n",
        "print(x_cv.shape)\n",
        "print(y_train.shape)\n",
        "print(y_cv.shape)"
      ],
      "metadata": {
        "colab": {
          "base_uri": "https://localhost:8080/"
        },
        "outputId": "187e5158-3e81-4aff-f1d9-1da54368549a",
        "id": "OoRjWB4AT83l"
      },
      "execution_count": null,
      "outputs": [
        {
          "output_type": "stream",
          "name": "stdout",
          "text": [
            "(48000, 784)\n",
            "(12000, 784)\n",
            "(48000,)\n",
            "(12000,)\n"
          ]
        }
      ]
    },
    {
      "cell_type": "code",
      "source": [
        "# reshaping them as matrix\n",
        "\n",
        "x_train = np.asmatrix(x_train).reshape(48000, 784)\n",
        "x_cv = np.asmatrix(x_cv).reshape(12000, 784)\n",
        "\n",
        "x_test = np.asmatrix(x_test).reshape(10000, 784)"
      ],
      "metadata": {
        "id": "76G3arU7T83m"
      },
      "execution_count": null,
      "outputs": []
    },
    {
      "cell_type": "code",
      "source": [
        "# feature normalization\n",
        "\n",
        "x_train = x_train.astype('float32')\n",
        "x_cv = x_cv.astype('float32')\n",
        "\n",
        "x_test = x_test.astype('float32')\n",
        "\n",
        "x_train = x_train/255\n",
        "x_cv = x_cv/255\n",
        "x_test = x_test/255"
      ],
      "metadata": {
        "id": "Z6k7YEQLT83n"
      },
      "execution_count": null,
      "outputs": []
    },
    {
      "cell_type": "code",
      "source": [
        "# creating the model\n",
        "model = Sequential()\n",
        "\n",
        "# first hidden layer\n",
        "model.add(Dense(activation = \"relu\", input_dim = 784, units = 400, kernel_initializer = \"uniform\"))\n",
        "\n",
        "# second hidden layer\n",
        "model.add(Dense(activation = \"relu\", units = 300, kernel_initializer = \"uniform\"))\n",
        "\n",
        "# third hidden layer\n",
        "model.add(Dense(activation = \"relu\", units = 300, kernel_initializer = \"uniform\"))\n",
        "\n",
        "# fourth hidden layer\n",
        "model.add(Dense(activation = \"relu\", units = 300, kernel_initializer = \"uniform\"))\n",
        "\n",
        "# fifth hidden layer\n",
        "model.add(Dense(activation = \"relu\", units = 100, kernel_initializer = \"uniform\"))\n",
        "\n",
        "# output layer\n",
        "# output_dim = no. of digits\n",
        "# softmax activation function is used for multiple outputs\n",
        "model.add(Dense(activation = \"softmax\", units = 10, kernel_initializer = \"uniform\"))"
      ],
      "metadata": {
        "id": "-lsZFSDTUR1M"
      },
      "execution_count": null,
      "outputs": []
    },
    {
      "cell_type": "code",
      "source": [
        "model.summary()"
      ],
      "metadata": {
        "colab": {
          "base_uri": "https://localhost:8080/"
        },
        "outputId": "6740027b-7575-46c8-dc0b-34e9e4b54cd7",
        "id": "PIVHZe6gUR1N"
      },
      "execution_count": null,
      "outputs": [
        {
          "output_type": "stream",
          "name": "stdout",
          "text": [
            "Model: \"sequential_1\"\n",
            "_________________________________________________________________\n",
            " Layer (type)                Output Shape              Param #   \n",
            "=================================================================\n",
            " dense_6 (Dense)             (None, 400)               314000    \n",
            "                                                                 \n",
            " dense_7 (Dense)             (None, 300)               120300    \n",
            "                                                                 \n",
            " dense_8 (Dense)             (None, 300)               90300     \n",
            "                                                                 \n",
            " dense_9 (Dense)             (None, 300)               90300     \n",
            "                                                                 \n",
            " dense_10 (Dense)            (None, 100)               30100     \n",
            "                                                                 \n",
            " dense_11 (Dense)            (None, 10)                1010      \n",
            "                                                                 \n",
            "=================================================================\n",
            "Total params: 646,010\n",
            "Trainable params: 646,010\n",
            "Non-trainable params: 0\n",
            "_________________________________________________________________\n"
          ]
        }
      ]
    },
    {
      "cell_type": "code",
      "source": [
        "from keras import optimizers"
      ],
      "metadata": {
        "id": "Rdi7F7VAUR1O"
      },
      "execution_count": null,
      "outputs": []
    },
    {
      "cell_type": "code",
      "source": [
        "# # setting the learning rate\n",
        "# learning_rate = 0.5\n",
        "# sgd = optimizers.SGD(lr = learning_rate)\n",
        "\n",
        "\n",
        "# # compiling the model\n",
        "# # using the plain vanilla stochastic gradient descent as our optimizing technique\n",
        "# # using categorical cross entropy for multiple outputs\n",
        "# model.compile(optimizer = 'sgd', loss = 'categorical_crossentropy', metrics = ['accuracy'])\n",
        "\n",
        "# # feeding the training data to the model\n",
        "# model.fit(x_train, y_train, batch_size = 100, epochs = 60, verbose = 2, validation_data = (x_cv, y_cv))"
      ],
      "metadata": {
        "id": "U9EbOEppUR1O"
      },
      "execution_count": null,
      "outputs": []
    },
    {
      "cell_type": "code",
      "source": [
        "# setting the learning rate\n",
        "learning_rate = 0.01\n",
        "adam = optimizers.Adam(lr = learning_rate)\n",
        "\n",
        "\n",
        "# compiling the model\n",
        "# using the plain vanilla stochastic gradient descent as our optimizing technique\n",
        "# using categorical cross entropy for multiple outputs\n",
        "model.compile(optimizer = 'adam', loss = 'sparse_categorical_crossentropy', metrics = ['accuracy'])\n",
        "\n",
        "# feeding the training data to the model\n",
        "history = model.fit(x_train, y_train, batch_size = 100, epochs = 20, verbose = 2, validation_data = (x_cv, y_cv))"
      ],
      "metadata": {
        "colab": {
          "base_uri": "https://localhost:8080/"
        },
        "outputId": "ba851e4f-a52e-4c90-a62b-645558752883",
        "id": "uoI0sfh5UR1O"
      },
      "execution_count": null,
      "outputs": [
        {
          "output_type": "stream",
          "name": "stderr",
          "text": [
            "/usr/local/lib/python3.8/dist-packages/keras/optimizers/optimizer_v2/adam.py:117: UserWarning: The `lr` argument is deprecated, use `learning_rate` instead.\n",
            "  super().__init__(name, **kwargs)\n"
          ]
        },
        {
          "output_type": "stream",
          "name": "stdout",
          "text": [
            "Epoch 1/20\n",
            "480/480 - 7s - loss: 1.2495 - accuracy: 0.5172 - val_loss: 0.6649 - val_accuracy: 0.7697 - 7s/epoch - 14ms/step\n",
            "Epoch 2/20\n",
            "480/480 - 5s - loss: 0.3883 - accuracy: 0.8830 - val_loss: 0.2652 - val_accuracy: 0.9292 - 5s/epoch - 10ms/step\n",
            "Epoch 3/20\n",
            "480/480 - 5s - loss: 0.1917 - accuracy: 0.9471 - val_loss: 0.1965 - val_accuracy: 0.9463 - 5s/epoch - 10ms/step\n",
            "Epoch 4/20\n",
            "480/480 - 5s - loss: 0.1264 - accuracy: 0.9646 - val_loss: 0.1767 - val_accuracy: 0.9513 - 5s/epoch - 9ms/step\n",
            "Epoch 5/20\n",
            "480/480 - 5s - loss: 0.0927 - accuracy: 0.9721 - val_loss: 0.1505 - val_accuracy: 0.9584 - 5s/epoch - 10ms/step\n",
            "Epoch 6/20\n",
            "480/480 - 5s - loss: 0.0690 - accuracy: 0.9789 - val_loss: 0.1629 - val_accuracy: 0.9554 - 5s/epoch - 11ms/step\n",
            "Epoch 7/20\n",
            "480/480 - 5s - loss: 0.0559 - accuracy: 0.9828 - val_loss: 0.1512 - val_accuracy: 0.9611 - 5s/epoch - 10ms/step\n",
            "Epoch 8/20\n",
            "480/480 - 5s - loss: 0.0431 - accuracy: 0.9863 - val_loss: 0.1512 - val_accuracy: 0.9621 - 5s/epoch - 11ms/step\n",
            "Epoch 9/20\n",
            "480/480 - 5s - loss: 0.0355 - accuracy: 0.9889 - val_loss: 0.1606 - val_accuracy: 0.9637 - 5s/epoch - 9ms/step\n",
            "Epoch 10/20\n",
            "480/480 - 5s - loss: 0.0346 - accuracy: 0.9889 - val_loss: 0.1786 - val_accuracy: 0.9600 - 5s/epoch - 10ms/step\n",
            "Epoch 11/20\n",
            "480/480 - 5s - loss: 0.0271 - accuracy: 0.9916 - val_loss: 0.1486 - val_accuracy: 0.9682 - 5s/epoch - 11ms/step\n",
            "Epoch 12/20\n",
            "480/480 - 5s - loss: 0.0276 - accuracy: 0.9909 - val_loss: 0.2004 - val_accuracy: 0.9570 - 5s/epoch - 9ms/step\n",
            "Epoch 13/20\n",
            "480/480 - 6s - loss: 0.0263 - accuracy: 0.9919 - val_loss: 0.1642 - val_accuracy: 0.9638 - 6s/epoch - 13ms/step\n",
            "Epoch 14/20\n",
            "480/480 - 5s - loss: 0.0203 - accuracy: 0.9936 - val_loss: 0.1640 - val_accuracy: 0.9672 - 5s/epoch - 9ms/step\n",
            "Epoch 15/20\n",
            "480/480 - 5s - loss: 0.0207 - accuracy: 0.9933 - val_loss: 0.1591 - val_accuracy: 0.9670 - 5s/epoch - 11ms/step\n",
            "Epoch 16/20\n",
            "480/480 - 5s - loss: 0.0216 - accuracy: 0.9930 - val_loss: 0.1558 - val_accuracy: 0.9682 - 5s/epoch - 10ms/step\n",
            "Epoch 17/20\n",
            "480/480 - 5s - loss: 0.0149 - accuracy: 0.9952 - val_loss: 0.1841 - val_accuracy: 0.9664 - 5s/epoch - 10ms/step\n",
            "Epoch 18/20\n",
            "480/480 - 5s - loss: 0.0147 - accuracy: 0.9955 - val_loss: 0.1742 - val_accuracy: 0.9672 - 5s/epoch - 11ms/step\n",
            "Epoch 19/20\n",
            "480/480 - 5s - loss: 0.0134 - accuracy: 0.9959 - val_loss: 0.1949 - val_accuracy: 0.9679 - 5s/epoch - 9ms/step\n",
            "Epoch 20/20\n",
            "480/480 - 5s - loss: 0.0160 - accuracy: 0.9950 - val_loss: 0.1663 - val_accuracy: 0.9691 - 5s/epoch - 11ms/step\n"
          ]
        }
      ]
    },
    {
      "cell_type": "code",
      "source": [
        "plt.plot(history.history['accuracy'])\n",
        "plt.plot(history.history['val_accuracy'])\n",
        "plt.xlabel('Epochs')\n",
        "plt.ylabel('Accuracy')\n",
        "# plt.legend(['Features','Price_Weight'],loc='upper left')\n",
        "plt.show()"
      ],
      "metadata": {
        "colab": {
          "base_uri": "https://localhost:8080/",
          "height": 279
        },
        "outputId": "c43dccfe-822d-43b1-d2eb-5cc95ceea953",
        "id": "YLAD48s4UR1P"
      },
      "execution_count": null,
      "outputs": [
        {
          "output_type": "display_data",
          "data": {
            "text/plain": [
              "<Figure size 432x288 with 1 Axes>"
            ],
            "image/png": "[encoded data removed]"
          },
          "metadata": {
            "needs_background": "light"
          }
        }
      ]
    },
    {
      "cell_type": "markdown",
      "source": [
        "#Cat vs dog dataset"
      ],
      "metadata": {
        "id": "r5i5JvhXVYUZ"
      }
    },
    {
      "cell_type": "code",
      "source": [
        "import pandas as pd\n",
        "import numpy as np\n",
        "import matplotlib.pyplot as plt\n",
        "from keras.models import Sequential\n",
        "from keras.layers import Convolution2D\n",
        "from keras.layers import MaxPooling2D\n",
        "from keras.layers import Dense\n",
        "from keras.layers import Flatten"
      ],
      "metadata": {
        "id": "Fu5OZ-Rvv5FT"
      },
      "execution_count": 17,
      "outputs": []
    },
    {
      "cell_type": "code",
      "source": [
        "import tensorflow_datasets as tfds\n",
        "import matplotlib.pyplot as plt"
      ],
      "metadata": {
        "id": "s5RkX6oe1XXs"
      },
      "execution_count": 20,
      "outputs": []
    },
    {
      "cell_type": "code",
      "source": [
        "classNames = ['cat', 'dog']\n",
        "split = ['train[:70%]', 'train[70%:]']\n",
        "\n",
        "trainDataset, testDataset = tfds.load(name='cats_vs_dogs', split=split, as_supervised=True)"
      ],
      "metadata": {
        "id": "hB61TxPW1ZDg"
      },
      "execution_count": 21,
      "outputs": []
    },
    {
      "cell_type": "code",
      "source": [
        "i = 0\n",
        "fig, ax = plt.subplots(1, 8)\n",
        "for image, label in testDataset.take(8):\n",
        "    ax[i].axis('off')\n",
        "    ax[i].set_title(classNames[label])\n",
        "    ax[i].imshow(image)\n",
        "    i += 1\n",
        "\n",
        "plt.show()"
      ],
      "metadata": {
        "colab": {
          "base_uri": "https://localhost:8080/",
          "height": 91
        },
        "id": "CS1npb5b1e8r",
        "outputId": "27f21784-a48b-4fe4-ee53-1daf3ff76bb3"
      },
      "execution_count": 22,
      "outputs": [
        {
          "output_type": "display_data",
          "data": {
            "text/plain": [
              "<Figure size 432x288 with 8 Axes>"
            ],
            "image/png": "[encoded data removed]"
          },
          "metadata": {
            "needs_background": "light"
          }
        }
      ]
    },
    {
      "cell_type": "code",
      "source": [
        "HEIGHT = 200\n",
        "WIDTH = 200"
      ],
      "metadata": {
        "id": "8etx3AAt15iQ"
      },
      "execution_count": 23,
      "outputs": []
    },
    {
      "cell_type": "code",
      "source": [
        "def preprocess(img, label):\n",
        "    return tf.image.resize(img, [HEIGHT, WIDTH]) / 255, label"
      ],
      "metadata": {
        "id": "3kVVa7rV1sXO"
      },
      "execution_count": 24,
      "outputs": []
    },
    {
      "cell_type": "code",
      "source": [
        "trainDataset = trainDataset.map(preprocess).batch(32)\n",
        "testDataset = testDataset.map(preprocess).batch(32)"
      ],
      "metadata": {
        "id": "b_h17IC5106u"
      },
      "execution_count": 25,
      "outputs": []
    },
    {
      "cell_type": "code",
      "source": [
        "trainDataset"
      ],
      "metadata": {
        "colab": {
          "base_uri": "https://localhost:8080/"
        },
        "id": "8597Zv5C2FWG",
        "outputId": "e6f8a8f2-3d8a-49be-c5f5-e2a484b619b3"
      },
      "execution_count": 26,
      "outputs": [
        {
          "output_type": "execute_result",
          "data": {
            "text/plain": [
              "<BatchDataset element_spec=(TensorSpec(shape=(None, 200, 200, 3), dtype=tf.float32, name=None), TensorSpec(shape=(None,), dtype=tf.int64, name=None))>"
            ]
          },
          "metadata": {},
          "execution_count": 26
        }
      ]
    },
    {
      "cell_type": "code",
      "source": [
        "# Define the ANN model for image classification\n",
        "modelann = keras.Sequential([\n",
        "    keras.layers.Flatten(input_shape=(200, 200, 3)),\n",
        "    keras.layers.Dense(128, activation='relu'),\n",
        "    keras.layers.Dense(64, activation='relu'),\n",
        "    keras.layers.Dense(1, activation='sigmoid')\n",
        "])"
      ],
      "metadata": {
        "id": "sEHqTt8s18_E"
      },
      "execution_count": 27,
      "outputs": []
    },
    {
      "cell_type": "code",
      "source": [
        "# Experiment with different activation functions and loss functions\n",
        "modelann.compile(optimizer='adam',\n",
        "              loss='binary_crossentropy',\n",
        "              metrics=['accuracy'])\n",
        "\n",
        "# Train the model\n",
        "history = model.fit(trainDataset, epochs=5, validation_data=testDataset)"
      ],
      "metadata": {
        "colab": {
          "base_uri": "https://localhost:8080/"
        },
        "id": "8Md-lglc2CKI",
        "outputId": "f733acd9-cfca-46a2-cfe3-82f5ef899fd0"
      },
      "execution_count": 28,
      "outputs": [
        {
          "output_type": "stream",
          "name": "stdout",
          "text": [
            "Epoch 1/5\n",
            "509/509 [==============================] - 123s 239ms/step - loss: 1.8553 - accuracy: 0.5307 - val_loss: 0.6644 - val_accuracy: 0.6167\n",
            "Epoch 2/5\n",
            "509/509 [==============================] - 121s 238ms/step - loss: 0.7711 - accuracy: 0.5703 - val_loss: 0.7000 - val_accuracy: 0.5658\n",
            "Epoch 3/5\n",
            "509/509 [==============================] - 119s 234ms/step - loss: 0.6666 - accuracy: 0.6023 - val_loss: 0.7467 - val_accuracy: 0.5423\n",
            "Epoch 4/5\n",
            "509/509 [==============================] - 126s 248ms/step - loss: 0.6709 - accuracy: 0.5968 - val_loss: 0.6737 - val_accuracy: 0.5934\n",
            "Epoch 5/5\n",
            "509/509 [==============================] - 117s 230ms/step - loss: 0.6662 - accuracy: 0.5998 - val_loss: 0.7352 - val_accuracy: 0.5796\n"
          ]
        }
      ]
    },
    {
      "cell_type": "code",
      "source": [
        "# Plot the model's accuracy and loss over time\n",
        "plt.plot(history.history['accuracy'])\n",
        "plt.title('Accuracy of the model')\n",
        "plt.ylabel('Accuracy')\n",
        "plt.xlabel('Epoch')\n",
        "plt.show()\n",
        "\n",
        "plt.plot(history.history['loss'])\n",
        "plt.title('loss of the model')\n",
        "plt.ylabel('Loss')\n",
        "plt.xlabel('Epoch')\n",
        "plt.show()"
      ],
      "metadata": {
        "colab": {
          "base_uri": "https://localhost:8080/",
          "height": 573
        },
        "id": "mrYvQnCO2c5n",
        "outputId": "b9599ba6-4260-4153-94ec-b73ea65071a6"
      },
      "execution_count": 29,
      "outputs": [
        {
          "output_type": "display_data",
          "data": {
            "text/plain": [
              "<Figure size 432x288 with 1 Axes>"
            ],
            "image/png": "[encoded data removed]"
          },
          "metadata": {
            "needs_background": "light"
          }
        },
        {
          "output_type": "display_data",
          "data": {
            "text/plain": [
              "<Figure size 432x288 with 1 Axes>"
            ],
            "image/png": "[encoded data removed]"
          },
          "metadata": {
            "needs_background": "light"
          }
        }
      ]
    },
    {
      "cell_type": "markdown",
      "source": [
        "#Traffic sign dataset"
      ],
      "metadata": {
        "id": "cbn7xzEsRnNS"
      }
    },
    {
      "cell_type": "code",
      "source": [
        "import pandas as pd\n",
        "import numpy as np\n",
        "import matplotlib.pyplot as plt\n",
        "import tensorflow as tf"
      ],
      "metadata": {
        "id": "16DqTlfoY3Xz"
      },
      "execution_count": 30,
      "outputs": []
    },
    {
      "cell_type": "code",
      "source": [
        "from google.colab import drive\n",
        "drive.mount('/content/drive')"
      ],
      "metadata": {
        "colab": {
          "base_uri": "https://localhost:8080/"
        },
        "id": "zXGvxeXTYInX",
        "outputId": "34e2cc33-a396-4416-ca10-30226756a9b3"
      },
      "execution_count": 34,
      "outputs": [
        {
          "output_type": "stream",
          "name": "stdout",
          "text": [
            "Drive already mounted at /content/drive; to attempt to forcibly remount, call drive.mount(\"/content/drive\", force_remount=True).\n"
          ]
        }
      ]
    },
    {
      "cell_type": "code",
      "source": [
        "train_df = pd.read_csv(\"/content/drive/MyDrive/annotations.csv\")"
      ],
      "metadata": {
        "id": "f7BpNAvQYSf8"
      },
      "execution_count": 35,
      "outputs": []
    },
    {
      "cell_type": "code",
      "source": [
        "plt.figure(figsize=(9,9))\n",
        "train_df['category'].value_counts().plot(kind='bar')\n",
        "plt.show()"
      ],
      "metadata": {
        "colab": {
          "base_uri": "https://localhost:8080/",
          "height": 540
        },
        "id": "Js_mg_voRl8Y",
        "outputId": "39264e3c-32fe-4944-af0b-7b4542904d0b"
      },
      "execution_count": 37,
      "outputs": [
        {
          "output_type": "display_data",
          "data": {
            "text/plain": [
              "<Figure size 648x648 with 1 Axes>"
            ],
            "image/png": "[encoded data removed]"
          },
          "metadata": {
            "needs_background": "light"
          }
        }
      ]
    },
    {
      "cell_type": "code",
      "source": [
        "train_df['category'] = train_df['category'].astype('str')"
      ],
      "metadata": {
        "id": "H281cp3sRoxt"
      },
      "execution_count": 38,
      "outputs": []
    },
    {
      "cell_type": "code",
      "source": [
        "datagen = tf.keras.preprocessing.image.ImageDataGenerator(\n",
        "            rescale=1./255,\n",
        "            horizontal_flip=True\n",
        "            )"
      ],
      "metadata": {
        "id": "idQ3hP0JRuFB"
      },
      "execution_count": 39,
      "outputs": []
    },
    {
      "cell_type": "code",
      "source": [
        " # Train generator\n",
        "train_generator = datagen.flow_from_dataframe(\n",
        "            dataframe=train_df,\n",
        "            directory=\"/content/drive/MyDrive/Data/Chinese-Traffic-Sign/images\",\n",
        "            x_col=\"file_name\",\n",
        "            y_col=\"category\",\n",
        "            has_ext=False,\n",
        "            subset=\"training\",\n",
        "            batch_size=16,\n",
        "            seed=42,\n",
        "            shuffle=True,\n",
        "            class_mode=\"categorical\",\n",
        "            target_size=(28,28))\n",
        "print('Train generator created')"
      ],
      "metadata": {
        "colab": {
          "base_uri": "https://localhost:8080/"
        },
        "id": "RHQzPmNKRz_E",
        "outputId": "c0d85cee-9499-409e-838b-f52c501f99d4"
      },
      "execution_count": 40,
      "outputs": [
        {
          "output_type": "stream",
          "name": "stdout",
          "text": [
            "Found 0 validated image filenames belonging to 0 classes.\n",
            "Train generator created\n"
          ]
        },
        {
          "output_type": "stream",
          "name": "stderr",
          "text": [
            "/usr/local/lib/python3.8/dist-packages/keras/preprocessing/image.py:1137: UserWarning: Found 6164 invalid image filename(s) in x_col=\"file_name\". These filename(s) will be ignored.\n",
            "  warnings.warn(\n"
          ]
        }
      ]
    },
    {
      "cell_type": "code",
      "source": [
        "classes=list(train_generator.class_indices.keys())\n",
        "plt.figure(figsize=(8,8))\n",
        "for X_batch, y_batch in train_generator:\n",
        "    # create a grid of 3x3 images\n",
        "    for i in range(0,8):\n",
        "        plt.subplot(2,4,i+1)\n",
        "        plt.imshow(X_batch[i])\n",
        "        plt.title(classes[np.where(y_batch[i]==1)[0][0]])\n",
        "    # show the plot\n",
        "    plt.show()\n",
        "    break"
      ],
      "metadata": {
        "colab": {
          "base_uri": "https://localhost:8080/",
          "height": 398
        },
        "id": "I7UW4oOBR3XX",
        "outputId": "449668f7-4b9c-4b80-d16f-4565526b815b"
      },
      "execution_count": null,
      "outputs": [
        {
          "output_type": "display_data",
          "data": {
            "text/plain": [
              "<Figure size 576x576 with 8 Axes>"
            ],
            "image/png": "[encoded data removed]"
          },
          "metadata": {
            "needs_background": "light"
          }
        }
      ]
    },
    {
      "cell_type": "code",
      "source": [
        "# Validation generator\n",
        "val_generator = datagen.flow_from_dataframe(\n",
        "            dataframe=train_df,\n",
        "            directory='/content/drive/MyDrive/Data/Chinese-Traffic-Sign/images',\n",
        "            x_col=\"file_name\",\n",
        "            y_col=\"category\",\n",
        "            has_ext=False,\n",
        "            subset=\"validation\",\n",
        "            batch_size=16,\n",
        "            seed=42,\n",
        "            shuffle=False,\n",
        "            class_mode=\"categorical\",\n",
        "            target_size=(28,28)) "
      ],
      "metadata": {
        "colab": {
          "base_uri": "https://localhost:8080/"
        },
        "outputId": "b770fbc6-6912-4c74-b45e-e92dce4a3696",
        "id": "e3LxY8AqBtoV"
      },
      "execution_count": null,
      "outputs": [
        {
          "output_type": "stream",
          "name": "stdout",
          "text": [
            "Found 616 validated image filenames belonging to 58 classes.\n"
          ]
        }
      ]
    },
    {
      "cell_type": "code",
      "source": [
        "from tensorflow import keras\n",
        "from tensorflow.keras.layers import Dense ,Flatten \n",
        "from tensorflow.keras.callbacks import EarlyStopping\n",
        "from tensorflow.keras.optimizers import Adam \n",
        "\n",
        "optimizer=Adam(learning_rate=0.001)\n",
        "EarlyStop=EarlyStopping(patience=2,restore_best_weights=True)"
      ],
      "metadata": {
        "id": "Ps8haJ7dBtoW"
      },
      "execution_count": null,
      "outputs": []
    },
    {
      "cell_type": "markdown",
      "source": [],
      "metadata": {
        "id": "CPnZy_0oBtoX"
      }
    },
    {
      "cell_type": "code",
      "source": [
        "# Define the ANN model for image classification\n",
        "model = keras.Sequential([\n",
        "    keras.layers.Flatten(),\n",
        "    keras.layers.Dense(128, activation='relu'),\n",
        "    keras.layers.Dense(64, activation='relu'),\n",
        "    keras.layers.Dense(58, activation='softmax')\n",
        "])"
      ],
      "metadata": {
        "id": "FNGAA2GABtoY"
      },
      "execution_count": null,
      "outputs": []
    },
    {
      "cell_type": "code",
      "source": [
        "## compile the model\n",
        "model.compile(optimizer=optimizer,loss='categorical_crossentropy', metrics=[\"accuracy\"])"
      ],
      "metadata": {
        "id": "wMkKYEHpBtoZ"
      },
      "execution_count": null,
      "outputs": []
    },
    {
      "cell_type": "code",
      "source": [
        "## saved History\n",
        "history=model.fit(train_generator,validation_data=val_generator,epochs=5,batch_size=16,verbose=1)"
      ],
      "metadata": {
        "colab": {
          "base_uri": "https://localhost:8080/"
        },
        "outputId": "efad8c3f-2634-4bbd-f5b7-2237f3805580",
        "id": "-_LVgRWFBtoZ"
      },
      "execution_count": null,
      "outputs": [
        {
          "output_type": "stream",
          "name": "stdout",
          "text": [
            "Epoch 1/5\n",
            "386/386 [==============================] - 1050s 3s/step - loss: 2.9743 - accuracy: 0.2472 - val_loss: 2.2930 - val_accuracy: 0.3442\n",
            "Epoch 2/5\n",
            "386/386 [==============================] - 24s 63ms/step - loss: 1.8724 - accuracy: 0.4740 - val_loss: 1.5860 - val_accuracy: 0.5714\n",
            "Epoch 3/5\n",
            "386/386 [==============================] - 26s 67ms/step - loss: 1.4113 - accuracy: 0.5943 - val_loss: 1.1331 - val_accuracy: 0.6656\n",
            "Epoch 4/5\n",
            "386/386 [==============================] - 24s 63ms/step - loss: 1.1548 - accuracy: 0.6650 - val_loss: 0.7923 - val_accuracy: 0.7987\n",
            "Epoch 5/5\n",
            "386/386 [==============================] - 23s 60ms/step - loss: 0.9532 - accuracy: 0.7140 - val_loss: 0.7901 - val_accuracy: 0.7630\n"
          ]
        }
      ]
    },
    {
      "cell_type": "code",
      "source": [
        "import seaborn as sns\n",
        "sns.set()\n",
        "\n",
        "acc = history.history['accuracy']\n",
        "val_acc = history.history['val_accuracy']\n",
        "loss = history.history['loss']\n",
        "val_loss = history.history['val_loss']\n",
        "epochs = range(1, len(loss) + 1)\n",
        "\n",
        "#accuracy plot\n",
        "plt.plot(epochs, acc, color='green', label='Training Accuracy')\n",
        "plt.plot(epochs, val_acc, color='blue', label='Validation Accuracy')\n",
        "plt.title('Training and Validation Accuracy')\n",
        "plt.ylabel('Accuracy')\n",
        "plt.xlabel('Epoch')\n",
        "plt.legend()\n",
        "plt.figure()\n",
        "plt.show()"
      ],
      "metadata": {
        "colab": {
          "base_uri": "https://localhost:8080/",
          "height": 318
        },
        "outputId": "c5f2351f-9352-4320-d6d9-70ba3568ac86",
        "id": "Wp5kKIzTBtob"
      },
      "execution_count": null,
      "outputs": [
        {
          "output_type": "display_data",
          "data": {
            "text/plain": [
              "<Figure size 432x288 with 1 Axes>"
            ],
            "image/png": "[encoded data removed]"
          },
          "metadata": {}
        },
        {
          "output_type": "display_data",
          "data": {
            "text/plain": [
              "<Figure size 432x288 with 0 Axes>"
            ]
          },
          "metadata": {}
        }
      ]
    },
    {
      "cell_type": "code",
      "source": [
        "#loss plot\n",
        "plt.plot(epochs, loss, color='green', label='Training Loss')\n",
        "plt.plot(epochs, val_loss, color='red', label='Validation Loss')\n",
        "plt.title('Training and Validation Loss')\n",
        "plt.xlabel('Epoch')\n",
        "plt.ylabel('Loss')\n",
        "plt.legend()\n",
        "\n",
        "plt.show()"
      ],
      "metadata": {
        "colab": {
          "base_uri": "https://localhost:8080/",
          "height": 301
        },
        "outputId": "8fdc978c-c949-482c-c68f-d14001dabf96",
        "id": "QVmhTnX2Btoc"
      },
      "execution_count": null,
      "outputs": [
        {
          "output_type": "display_data",
          "data": {
            "text/plain": [
              "<Figure size 432x288 with 1 Axes>"
            ],
            "image/png": "[encoded data removed]"
          },
          "metadata": {}
        }
      ]
    },
    {
      "cell_type": "code",
      "source": [
        "predictions = model.predict(val_generator)"
      ],
      "metadata": {
        "colab": {
          "base_uri": "https://localhost:8080/"
        },
        "outputId": "96eea0be-6bb3-4307-f2d7-a8309f67acb9",
        "id": "FcyZs0ISBtod"
      },
      "execution_count": null,
      "outputs": [
        {
          "output_type": "stream",
          "name": "stdout",
          "text": [
            "39/39 [==============================] - 2s 48ms/step\n"
          ]
        }
      ]
    },
    {
      "cell_type": "code",
      "source": [
        "predictions"
      ],
      "metadata": {
        "colab": {
          "base_uri": "https://localhost:8080/"
        },
        "id": "xa369wOm9VG0",
        "outputId": "e9a1408b-690b-4c96-a1cb-377d93571148"
      },
      "execution_count": null,
      "outputs": [
        {
          "output_type": "execute_result",
          "data": {
            "text/plain": [
              "array([[1.1827901e-01, 4.4153482e-03, 6.6910632e-02, ..., 2.1829978e-03,\n",
              "        1.4666858e-03, 4.2651191e-05],\n",
              "       [2.8418356e-01, 1.6139939e-02, 2.6919138e-01, ..., 2.4418687e-03,\n",
              "        3.5294928e-03, 6.5885135e-05],\n",
              "       [1.3062018e-01, 2.8381285e-03, 1.3944873e-01, ..., 1.2069513e-03,\n",
              "        6.6128415e-03, 2.3837545e-05],\n",
              "       ...,\n",
              "       [4.2914876e-09, 7.5986434e-10, 1.4115882e-10, ..., 8.4942377e-07,\n",
              "        4.2072066e-09, 3.2218928e-08],\n",
              "       [4.4320441e-09, 5.0319127e-10, 3.1650016e-11, ..., 4.9827054e-07,\n",
              "        1.8254828e-09, 3.5533510e-08],\n",
              "       [4.4320441e-09, 5.0319127e-10, 3.1650016e-11, ..., 4.9827054e-07,\n",
              "        1.8254828e-09, 3.5533510e-08]], dtype=float32)"
            ]
          },
          "metadata": {},
          "execution_count": 18
        }
      ]
    }
  ]
}
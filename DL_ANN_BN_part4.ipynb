{
  "nbformat": 4,
  "nbformat_minor": 0,
  "metadata": {
    "colab": {
      "provenance": []
    },
    "kernelspec": {
      "name": "python3",
      "display_name": "Python 3"
    },
    "language_info": {
      "name": "python"
    }
  },
  "cells": [
    {
      "cell_type": "markdown",
      "source": [
        "Name: Dhruvi Shah\n",
        "\n",
        "Student ID : 202211032\n",
        "\n",
        "DL Assignment 5 "
      ],
      "metadata": {
        "id": "mZQiLlRoMYJc"
      }
    },
    {
      "cell_type": "code",
      "execution_count": 6,
      "metadata": {
        "id": "mQTtPZN4s3kh"
      },
      "outputs": [],
      "source": [
        "import tensorflow as tf\n",
        "import pandas as pd\n",
        "import numpy as np\n",
        "import matplotlib.pyplot as plt\n",
        "import keras\n",
        "from keras.models import Sequential\n",
        "from keras.layers import Dense\n",
        "from sklearn.metrics import confusion_matrix\n",
        "from sklearn.model_selection import train_test_split"
      ]
    },
    {
      "cell_type": "markdown",
      "source": [
        "#Heart Failure prediction dataset"
      ],
      "metadata": {
        "id": "8MYnOmueQzYm"
      }
    },
    {
      "cell_type": "code",
      "source": [
        "data = pd.read_csv('heart (1).csv')\n",
        "data.head()"
      ],
      "metadata": {
        "colab": {
          "base_uri": "https://localhost:8080/",
          "height": 206
        },
        "id": "CHXkgxB1ovAX",
        "outputId": "1bf0d642-118f-457e-a981-cc63a6c81a61"
      },
      "execution_count": 2,
      "outputs": [
        {
          "output_type": "execute_result",
          "data": {
            "text/plain": [
              "   Age Sex ChestPainType  RestingBP  Cholesterol  FastingBS RestingECG  MaxHR  \\\n",
              "0   40   M           ATA        140          289          0     Normal    172   \n",
              "1   49   F           NAP        160          180          0     Normal    156   \n",
              "2   37   M           ATA        130          283          0         ST     98   \n",
              "3   48   F           ASY        138          214          0     Normal    108   \n",
              "4   54   M           NAP        150          195          0     Normal    122   \n",
              "\n",
              "  ExerciseAngina  Oldpeak ST_Slope  HeartDisease  \n",
              "0              N      0.0       Up             0  \n",
              "1              N      1.0     Flat             1  \n",
              "2              N      0.0       Up             0  \n",
              "3              Y      1.5     Flat             1  \n",
              "4              N      0.0       Up             0  "
            ],
            "text/html": [
              "\n",
              "  <div id=\"df-3acaaec3-703d-4a32-be4e-c96af126794a\">\n",
              "    <div class=\"colab-df-container\">\n",
              "      <div>\n",
              "<style scoped>\n",
              "    .dataframe tbody tr th:only-of-type {\n",
              "        vertical-align: middle;\n",
              "    }\n",
              "\n",
              "    .dataframe tbody tr th {\n",
              "        vertical-align: top;\n",
              "    }\n",
              "\n",
              "    .dataframe thead th {\n",
              "        text-align: right;\n",
              "    }\n",
              "</style>\n",
              "<table border=\"1\" class=\"dataframe\">\n",
              "  <thead>\n",
              "    <tr style=\"text-align: right;\">\n",
              "      <th></th>\n",
              "      <th>Age</th>\n",
              "      <th>Sex</th>\n",
              "      <th>ChestPainType</th>\n",
              "      <th>RestingBP</th>\n",
              "      <th>Cholesterol</th>\n",
              "      <th>FastingBS</th>\n",
              "      <th>RestingECG</th>\n",
              "      <th>MaxHR</th>\n",
              "      <th>ExerciseAngina</th>\n",
              "      <th>Oldpeak</th>\n",
              "      <th>ST_Slope</th>\n",
              "      <th>HeartDisease</th>\n",
              "    </tr>\n",
              "  </thead>\n",
              "  <tbody>\n",
              "    <tr>\n",
              "      <th>0</th>\n",
              "      <td>40</td>\n",
              "      <td>M</td>\n",
              "      <td>ATA</td>\n",
              "      <td>140</td>\n",
              "      <td>289</td>\n",
              "      <td>0</td>\n",
              "      <td>Normal</td>\n",
              "      <td>172</td>\n",
              "      <td>N</td>\n",
              "      <td>0.0</td>\n",
              "      <td>Up</td>\n",
              "      <td>0</td>\n",
              "    </tr>\n",
              "    <tr>\n",
              "      <th>1</th>\n",
              "      <td>49</td>\n",
              "      <td>F</td>\n",
              "      <td>NAP</td>\n",
              "      <td>160</td>\n",
              "      <td>180</td>\n",
              "      <td>0</td>\n",
              "      <td>Normal</td>\n",
              "      <td>156</td>\n",
              "      <td>N</td>\n",
              "      <td>1.0</td>\n",
              "      <td>Flat</td>\n",
              "      <td>1</td>\n",
              "    </tr>\n",
              "    <tr>\n",
              "      <th>2</th>\n",
              "      <td>37</td>\n",
              "      <td>M</td>\n",
              "      <td>ATA</td>\n",
              "      <td>130</td>\n",
              "      <td>283</td>\n",
              "      <td>0</td>\n",
              "      <td>ST</td>\n",
              "      <td>98</td>\n",
              "      <td>N</td>\n",
              "      <td>0.0</td>\n",
              "      <td>Up</td>\n",
              "      <td>0</td>\n",
              "    </tr>\n",
              "    <tr>\n",
              "      <th>3</th>\n",
              "      <td>48</td>\n",
              "      <td>F</td>\n",
              "      <td>ASY</td>\n",
              "      <td>138</td>\n",
              "      <td>214</td>\n",
              "      <td>0</td>\n",
              "      <td>Normal</td>\n",
              "      <td>108</td>\n",
              "      <td>Y</td>\n",
              "      <td>1.5</td>\n",
              "      <td>Flat</td>\n",
              "      <td>1</td>\n",
              "    </tr>\n",
              "    <tr>\n",
              "      <th>4</th>\n",
              "      <td>54</td>\n",
              "      <td>M</td>\n",
              "      <td>NAP</td>\n",
              "      <td>150</td>\n",
              "      <td>195</td>\n",
              "      <td>0</td>\n",
              "      <td>Normal</td>\n",
              "      <td>122</td>\n",
              "      <td>N</td>\n",
              "      <td>0.0</td>\n",
              "      <td>Up</td>\n",
              "      <td>0</td>\n",
              "    </tr>\n",
              "  </tbody>\n",
              "</table>\n",
              "</div>\n",
              "      <button class=\"colab-df-convert\" onclick=\"convertToInteractive('df-3acaaec3-703d-4a32-be4e-c96af126794a')\"\n",
              "              title=\"Convert this dataframe to an interactive table.\"\n",
              "              style=\"display:none;\">\n",
              "        \n",
              "  <svg xmlns=\"http://www.w3.org/2000/svg\" height=\"24px\"viewBox=\"0 0 24 24\"\n",
              "       width=\"24px\">\n",
              "    <path d=\"M0 0h24v24H0V0z\" fill=\"none\"/>\n",
              "    <path d=\"M18.56 5.44l.94 2.06.94-2.06 2.06-.94-2.06-.94-.94-2.06-.94 2.06-2.06.94zm-11 1L8.5 8.5l.94-2.06 2.06-.94-2.06-.94L8.5 2.5l-.94 2.06-2.06.94zm10 10l.94 2.06.94-2.06 2.06-.94-2.06-.94-.94-2.06-.94 2.06-2.06.94z\"/><path d=\"M17.41 7.96l-1.37-1.37c-.4-.4-.92-.59-1.43-.59-.52 0-1.04.2-1.43.59L10.3 9.45l-7.72 7.72c-.78.78-.78 2.05 0 2.83L4 21.41c.39.39.9.59 1.41.59.51 0 1.02-.2 1.41-.59l7.78-7.78 2.81-2.81c.8-.78.8-2.07 0-2.86zM5.41 20L4 18.59l7.72-7.72 1.47 1.35L5.41 20z\"/>\n",
              "  </svg>\n",
              "      </button>\n",
              "      \n",
              "  <style>\n",
              "    .colab-df-container {\n",
              "      display:flex;\n",
              "      flex-wrap:wrap;\n",
              "      gap: 12px;\n",
              "    }\n",
              "\n",
              "    .colab-df-convert {\n",
              "      background-color: #E8F0FE;\n",
              "      border: none;\n",
              "      border-radius: 50%;\n",
              "      cursor: pointer;\n",
              "      display: none;\n",
              "      fill: #1967D2;\n",
              "      height: 32px;\n",
              "      padding: 0 0 0 0;\n",
              "      width: 32px;\n",
              "    }\n",
              "\n",
              "    .colab-df-convert:hover {\n",
              "      background-color: #E2EBFA;\n",
              "      box-shadow: 0px 1px 2px rgba(60, 64, 67, 0.3), 0px 1px 3px 1px rgba(60, 64, 67, 0.15);\n",
              "      fill: #174EA6;\n",
              "    }\n",
              "\n",
              "    [theme=dark] .colab-df-convert {\n",
              "      background-color: #3B4455;\n",
              "      fill: #D2E3FC;\n",
              "    }\n",
              "\n",
              "    [theme=dark] .colab-df-convert:hover {\n",
              "      background-color: #434B5C;\n",
              "      box-shadow: 0px 1px 3px 1px rgba(0, 0, 0, 0.15);\n",
              "      filter: drop-shadow(0px 1px 2px rgba(0, 0, 0, 0.3));\n",
              "      fill: #FFFFFF;\n",
              "    }\n",
              "  </style>\n",
              "\n",
              "      <script>\n",
              "        const buttonEl =\n",
              "          document.querySelector('#df-3acaaec3-703d-4a32-be4e-c96af126794a button.colab-df-convert');\n",
              "        buttonEl.style.display =\n",
              "          google.colab.kernel.accessAllowed ? 'block' : 'none';\n",
              "\n",
              "        async function convertToInteractive(key) {\n",
              "          const element = document.querySelector('#df-3acaaec3-703d-4a32-be4e-c96af126794a');\n",
              "          const dataTable =\n",
              "            await google.colab.kernel.invokeFunction('convertToInteractive',\n",
              "                                                     [key], {});\n",
              "          if (!dataTable) return;\n",
              "\n",
              "          const docLinkHtml = 'Like what you see? Visit the ' +\n",
              "            '<a target=\"_blank\" href=https://colab.research.google.com/notebooks/data_table.ipynb>data table notebook</a>'\n",
              "            + ' to learn more about interactive tables.';\n",
              "          element.innerHTML = '';\n",
              "          dataTable['output_type'] = 'display_data';\n",
              "          await google.colab.output.renderOutput(dataTable, element);\n",
              "          const docLink = document.createElement('div');\n",
              "          docLink.innerHTML = docLinkHtml;\n",
              "          element.appendChild(docLink);\n",
              "        }\n",
              "      </script>\n",
              "    </div>\n",
              "  </div>\n",
              "  "
            ]
          },
          "metadata": {},
          "execution_count": 2
        }
      ]
    },
    {
      "cell_type": "code",
      "source": [
        "data.describe()"
      ],
      "metadata": {
        "colab": {
          "base_uri": "https://localhost:8080/",
          "height": 300
        },
        "id": "f_g119OLo5fm",
        "outputId": "1bab693e-6700-4f15-e2bb-9ff7a0ed0134"
      },
      "execution_count": 3,
      "outputs": [
        {
          "output_type": "execute_result",
          "data": {
            "text/plain": [
              "              Age   RestingBP  Cholesterol   FastingBS       MaxHR  \\\n",
              "count  918.000000  918.000000   918.000000  918.000000  918.000000   \n",
              "mean    53.510893  132.396514   198.799564    0.233115  136.809368   \n",
              "std      9.432617   18.514154   109.384145    0.423046   25.460334   \n",
              "min     28.000000    0.000000     0.000000    0.000000   60.000000   \n",
              "25%     47.000000  120.000000   173.250000    0.000000  120.000000   \n",
              "50%     54.000000  130.000000   223.000000    0.000000  138.000000   \n",
              "75%     60.000000  140.000000   267.000000    0.000000  156.000000   \n",
              "max     77.000000  200.000000   603.000000    1.000000  202.000000   \n",
              "\n",
              "          Oldpeak  HeartDisease  \n",
              "count  918.000000    918.000000  \n",
              "mean     0.887364      0.553377  \n",
              "std      1.066570      0.497414  \n",
              "min     -2.600000      0.000000  \n",
              "25%      0.000000      0.000000  \n",
              "50%      0.600000      1.000000  \n",
              "75%      1.500000      1.000000  \n",
              "max      6.200000      1.000000  "
            ],
            "text/html": [
              "\n",
              "  <div id=\"df-103a36b4-61c5-4eda-a9da-2b8883fd39b0\">\n",
              "    <div class=\"colab-df-container\">\n",
              "      <div>\n",
              "<style scoped>\n",
              "    .dataframe tbody tr th:only-of-type {\n",
              "        vertical-align: middle;\n",
              "    }\n",
              "\n",
              "    .dataframe tbody tr th {\n",
              "        vertical-align: top;\n",
              "    }\n",
              "\n",
              "    .dataframe thead th {\n",
              "        text-align: right;\n",
              "    }\n",
              "</style>\n",
              "<table border=\"1\" class=\"dataframe\">\n",
              "  <thead>\n",
              "    <tr style=\"text-align: right;\">\n",
              "      <th></th>\n",
              "      <th>Age</th>\n",
              "      <th>RestingBP</th>\n",
              "      <th>Cholesterol</th>\n",
              "      <th>FastingBS</th>\n",
              "      <th>MaxHR</th>\n",
              "      <th>Oldpeak</th>\n",
              "      <th>HeartDisease</th>\n",
              "    </tr>\n",
              "  </thead>\n",
              "  <tbody>\n",
              "    <tr>\n",
              "      <th>count</th>\n",
              "      <td>918.000000</td>\n",
              "      <td>918.000000</td>\n",
              "      <td>918.000000</td>\n",
              "      <td>918.000000</td>\n",
              "      <td>918.000000</td>\n",
              "      <td>918.000000</td>\n",
              "      <td>918.000000</td>\n",
              "    </tr>\n",
              "    <tr>\n",
              "      <th>mean</th>\n",
              "      <td>53.510893</td>\n",
              "      <td>132.396514</td>\n",
              "      <td>198.799564</td>\n",
              "      <td>0.233115</td>\n",
              "      <td>136.809368</td>\n",
              "      <td>0.887364</td>\n",
              "      <td>0.553377</td>\n",
              "    </tr>\n",
              "    <tr>\n",
              "      <th>std</th>\n",
              "      <td>9.432617</td>\n",
              "      <td>18.514154</td>\n",
              "      <td>109.384145</td>\n",
              "      <td>0.423046</td>\n",
              "      <td>25.460334</td>\n",
              "      <td>1.066570</td>\n",
              "      <td>0.497414</td>\n",
              "    </tr>\n",
              "    <tr>\n",
              "      <th>min</th>\n",
              "      <td>28.000000</td>\n",
              "      <td>0.000000</td>\n",
              "      <td>0.000000</td>\n",
              "      <td>0.000000</td>\n",
              "      <td>60.000000</td>\n",
              "      <td>-2.600000</td>\n",
              "      <td>0.000000</td>\n",
              "    </tr>\n",
              "    <tr>\n",
              "      <th>25%</th>\n",
              "      <td>47.000000</td>\n",
              "      <td>120.000000</td>\n",
              "      <td>173.250000</td>\n",
              "      <td>0.000000</td>\n",
              "      <td>120.000000</td>\n",
              "      <td>0.000000</td>\n",
              "      <td>0.000000</td>\n",
              "    </tr>\n",
              "    <tr>\n",
              "      <th>50%</th>\n",
              "      <td>54.000000</td>\n",
              "      <td>130.000000</td>\n",
              "      <td>223.000000</td>\n",
              "      <td>0.000000</td>\n",
              "      <td>138.000000</td>\n",
              "      <td>0.600000</td>\n",
              "      <td>1.000000</td>\n",
              "    </tr>\n",
              "    <tr>\n",
              "      <th>75%</th>\n",
              "      <td>60.000000</td>\n",
              "      <td>140.000000</td>\n",
              "      <td>267.000000</td>\n",
              "      <td>0.000000</td>\n",
              "      <td>156.000000</td>\n",
              "      <td>1.500000</td>\n",
              "      <td>1.000000</td>\n",
              "    </tr>\n",
              "    <tr>\n",
              "      <th>max</th>\n",
              "      <td>77.000000</td>\n",
              "      <td>200.000000</td>\n",
              "      <td>603.000000</td>\n",
              "      <td>1.000000</td>\n",
              "      <td>202.000000</td>\n",
              "      <td>6.200000</td>\n",
              "      <td>1.000000</td>\n",
              "    </tr>\n",
              "  </tbody>\n",
              "</table>\n",
              "</div>\n",
              "      <button class=\"colab-df-convert\" onclick=\"convertToInteractive('df-103a36b4-61c5-4eda-a9da-2b8883fd39b0')\"\n",
              "              title=\"Convert this dataframe to an interactive table.\"\n",
              "              style=\"display:none;\">\n",
              "        \n",
              "  <svg xmlns=\"http://www.w3.org/2000/svg\" height=\"24px\"viewBox=\"0 0 24 24\"\n",
              "       width=\"24px\">\n",
              "    <path d=\"M0 0h24v24H0V0z\" fill=\"none\"/>\n",
              "    <path d=\"M18.56 5.44l.94 2.06.94-2.06 2.06-.94-2.06-.94-.94-2.06-.94 2.06-2.06.94zm-11 1L8.5 8.5l.94-2.06 2.06-.94-2.06-.94L8.5 2.5l-.94 2.06-2.06.94zm10 10l.94 2.06.94-2.06 2.06-.94-2.06-.94-.94-2.06-.94 2.06-2.06.94z\"/><path d=\"M17.41 7.96l-1.37-1.37c-.4-.4-.92-.59-1.43-.59-.52 0-1.04.2-1.43.59L10.3 9.45l-7.72 7.72c-.78.78-.78 2.05 0 2.83L4 21.41c.39.39.9.59 1.41.59.51 0 1.02-.2 1.41-.59l7.78-7.78 2.81-2.81c.8-.78.8-2.07 0-2.86zM5.41 20L4 18.59l7.72-7.72 1.47 1.35L5.41 20z\"/>\n",
              "  </svg>\n",
              "      </button>\n",
              "      \n",
              "  <style>\n",
              "    .colab-df-container {\n",
              "      display:flex;\n",
              "      flex-wrap:wrap;\n",
              "      gap: 12px;\n",
              "    }\n",
              "\n",
              "    .colab-df-convert {\n",
              "      background-color: #E8F0FE;\n",
              "      border: none;\n",
              "      border-radius: 50%;\n",
              "      cursor: pointer;\n",
              "      display: none;\n",
              "      fill: #1967D2;\n",
              "      height: 32px;\n",
              "      padding: 0 0 0 0;\n",
              "      width: 32px;\n",
              "    }\n",
              "\n",
              "    .colab-df-convert:hover {\n",
              "      background-color: #E2EBFA;\n",
              "      box-shadow: 0px 1px 2px rgba(60, 64, 67, 0.3), 0px 1px 3px 1px rgba(60, 64, 67, 0.15);\n",
              "      fill: #174EA6;\n",
              "    }\n",
              "\n",
              "    [theme=dark] .colab-df-convert {\n",
              "      background-color: #3B4455;\n",
              "      fill: #D2E3FC;\n",
              "    }\n",
              "\n",
              "    [theme=dark] .colab-df-convert:hover {\n",
              "      background-color: #434B5C;\n",
              "      box-shadow: 0px 1px 3px 1px rgba(0, 0, 0, 0.15);\n",
              "      filter: drop-shadow(0px 1px 2px rgba(0, 0, 0, 0.3));\n",
              "      fill: #FFFFFF;\n",
              "    }\n",
              "  </style>\n",
              "\n",
              "      <script>\n",
              "        const buttonEl =\n",
              "          document.querySelector('#df-103a36b4-61c5-4eda-a9da-2b8883fd39b0 button.colab-df-convert');\n",
              "        buttonEl.style.display =\n",
              "          google.colab.kernel.accessAllowed ? 'block' : 'none';\n",
              "\n",
              "        async function convertToInteractive(key) {\n",
              "          const element = document.querySelector('#df-103a36b4-61c5-4eda-a9da-2b8883fd39b0');\n",
              "          const dataTable =\n",
              "            await google.colab.kernel.invokeFunction('convertToInteractive',\n",
              "                                                     [key], {});\n",
              "          if (!dataTable) return;\n",
              "\n",
              "          const docLinkHtml = 'Like what you see? Visit the ' +\n",
              "            '<a target=\"_blank\" href=https://colab.research.google.com/notebooks/data_table.ipynb>data table notebook</a>'\n",
              "            + ' to learn more about interactive tables.';\n",
              "          element.innerHTML = '';\n",
              "          dataTable['output_type'] = 'display_data';\n",
              "          await google.colab.output.renderOutput(dataTable, element);\n",
              "          const docLink = document.createElement('div');\n",
              "          docLink.innerHTML = docLinkHtml;\n",
              "          element.appendChild(docLink);\n",
              "        }\n",
              "      </script>\n",
              "    </div>\n",
              "  </div>\n",
              "  "
            ]
          },
          "metadata": {},
          "execution_count": 3
        }
      ]
    },
    {
      "cell_type": "code",
      "source": [
        "data.isnull().any()"
      ],
      "metadata": {
        "colab": {
          "base_uri": "https://localhost:8080/"
        },
        "id": "Z_cbiW6JpCp5",
        "outputId": "e2829d38-a637-4e06-f2e5-9f045c049366"
      },
      "execution_count": 4,
      "outputs": [
        {
          "output_type": "execute_result",
          "data": {
            "text/plain": [
              "Age               False\n",
              "Sex               False\n",
              "ChestPainType     False\n",
              "RestingBP         False\n",
              "Cholesterol       False\n",
              "FastingBS         False\n",
              "RestingECG        False\n",
              "MaxHR             False\n",
              "ExerciseAngina    False\n",
              "Oldpeak           False\n",
              "ST_Slope          False\n",
              "HeartDisease      False\n",
              "dtype: bool"
            ]
          },
          "metadata": {},
          "execution_count": 4
        }
      ]
    },
    {
      "cell_type": "markdown",
      "source": [
        "EDA on heart failure dataset"
      ],
      "metadata": {
        "id": "zQSySrwBLXaF"
      }
    },
    {
      "cell_type": "code",
      "source": [
        "plt.hist(data.Age)"
      ],
      "metadata": {
        "colab": {
          "base_uri": "https://localhost:8080/",
          "height": 317
        },
        "id": "TIosE9ZCuo64",
        "outputId": "a21f9fad-0aef-4312-f215-e3048365fece"
      },
      "execution_count": 5,
      "outputs": [
        {
          "output_type": "execute_result",
          "data": {
            "text/plain": [
              "(array([ 12.,  37.,  86., 104., 148., 201., 175., 101.,  39.,  15.]),\n",
              " array([28. , 32.9, 37.8, 42.7, 47.6, 52.5, 57.4, 62.3, 67.2, 72.1, 77. ]),\n",
              " <BarContainer object of 10 artists>)"
            ]
          },
          "metadata": {},
          "execution_count": 5
        },
        {
          "output_type": "display_data",
          "data": {
            "text/plain": [
              "<Figure size 432x288 with 1 Axes>"
            ],
            "image/png": "[encoded data removed]"
          },
          "metadata": {
            "needs_background": "light"
          }
        }
      ]
    },
    {
      "cell_type": "code",
      "source": [
        "plt.scatter(data.Cholesterol[data.HeartDisease==0],data.MaxHR[data.HeartDisease==0])\n",
        "plt.scatter(data.Cholesterol[data.HeartDisease==1],data.MaxHR[data.HeartDisease==1])\n",
        "plt.xlabel(\"Cholesterol\")\n",
        "plt.ylabel(\"MaxHR\")\n",
        "plt.title(\"Cholesterol & MaxHR Accourding Condition\")\n",
        "plt.legend(data.HeartDisease)"
      ],
      "metadata": {
        "colab": {
          "base_uri": "https://localhost:8080/",
          "height": 312
        },
        "id": "pcpdpCkxuZAn",
        "outputId": "85d2b833-68e3-4a52-eac1-593407507338"
      },
      "execution_count": 6,
      "outputs": [
        {
          "output_type": "execute_result",
          "data": {
            "text/plain": [
              "<matplotlib.legend.Legend at 0x7f5acd249b20>"
            ]
          },
          "metadata": {},
          "execution_count": 6
        },
        {
          "output_type": "display_data",
          "data": {
            "text/plain": [
              "<Figure size 432x288 with 1 Axes>"
            ],
            "image/png": "[encoded data removed]"
          },
          "metadata": {
            "needs_background": "light"
          }
        }
      ]
    },
    {
      "cell_type": "code",
      "source": [
        "plt.scatter(data.Cholesterol[data.HeartDisease==0],data.Oldpeak[data.HeartDisease==0])\n",
        "plt.scatter(data.Cholesterol[data.HeartDisease==1],data.Oldpeak[data.HeartDisease==1])\n",
        "plt.xlabel(\"Cholesterol\")\n",
        "plt.ylabel(\"Oldpeak\")\n",
        "plt.title(\"Cholesterol & Oldpeak Accourding Condition\")\n",
        "plt.legend(data.HeartDisease)"
      ],
      "metadata": {
        "colab": {
          "base_uri": "https://localhost:8080/",
          "height": 312
        },
        "id": "gJRBNqb7uwZ-",
        "outputId": "88753b5d-5dca-4d74-e452-61af906b713e"
      },
      "execution_count": 7,
      "outputs": [
        {
          "output_type": "execute_result",
          "data": {
            "text/plain": [
              "<matplotlib.legend.Legend at 0x7f5acd30ff70>"
            ]
          },
          "metadata": {},
          "execution_count": 7
        },
        {
          "output_type": "display_data",
          "data": {
            "text/plain": [
              "<Figure size 432x288 with 1 Axes>"
            ],
            "image/png": "[encoded data removed]"
          },
          "metadata": {
            "needs_background": "light"
          }
        }
      ]
    },
    {
      "cell_type": "code",
      "source": [
        "# RestingBP,RestingECG\n",
        "data.RestingBP.groupby(data.RestingECG.values).plot(kind='hist',title='Resting Distribution Accourding Conditions');"
      ],
      "metadata": {
        "colab": {
          "base_uri": "https://localhost:8080/",
          "height": 281
        },
        "id": "TwKzAi2DvAMh",
        "outputId": "d5072516-31a8-4c2d-9fa1-ad59df7417fa"
      },
      "execution_count": 8,
      "outputs": [
        {
          "output_type": "display_data",
          "data": {
            "text/plain": [
              "<Figure size 432x288 with 1 Axes>"
            ],
            "image/png": "[encoded data removed]"
          },
          "metadata": {
            "needs_background": "light"
          }
        }
      ]
    },
    {
      "cell_type": "code",
      "source": [
        "import pandas as pd\n",
        "from sklearn.preprocessing import LabelEncoder\n",
        "\n",
        "# select the features that need to be encoded\n",
        "cat_cols = ['Sex','ChestPainType','RestingECG','ST_Slope','ExerciseAngina']\n",
        "\n",
        "# initialize the label encoder\n",
        "le = LabelEncoder()\n",
        "\n",
        "# apply label encoding to the categorical features\n",
        "for col in cat_cols:\n",
        "    data[col] = le.fit_transform(data[col])\n",
        "\n",
        "# display the transformed dataset\n",
        "print(data.head())"
      ],
      "metadata": {
        "colab": {
          "base_uri": "https://localhost:8080/"
        },
        "id": "RRC5e9M7qt8J",
        "outputId": "1024f91d-fc58-4938-9212-68a3655772e4"
      },
      "execution_count": 9,
      "outputs": [
        {
          "output_type": "stream",
          "name": "stdout",
          "text": [
            "   Age  Sex  ChestPainType  RestingBP  Cholesterol  FastingBS  RestingECG  \\\n",
            "0   40    1              1        140          289          0           1   \n",
            "1   49    0              2        160          180          0           1   \n",
            "2   37    1              1        130          283          0           2   \n",
            "3   48    0              0        138          214          0           1   \n",
            "4   54    1              2        150          195          0           1   \n",
            "\n",
            "   MaxHR  ExerciseAngina  Oldpeak  ST_Slope  HeartDisease  \n",
            "0    172               0      0.0         2             0  \n",
            "1    156               0      1.0         1             1  \n",
            "2     98               0      0.0         2             0  \n",
            "3    108               1      1.5         1             1  \n",
            "4    122               0      0.0         2             0  \n"
          ]
        }
      ]
    },
    {
      "cell_type": "code",
      "source": [
        "X = data.iloc[:,:11].values\n",
        "y = data[\"HeartDisease\"].values"
      ],
      "metadata": {
        "id": "ZpBKWKVnpFCt"
      },
      "execution_count": 10,
      "outputs": []
    },
    {
      "cell_type": "code",
      "source": [
        "print(X)"
      ],
      "metadata": {
        "colab": {
          "base_uri": "https://localhost:8080/"
        },
        "id": "qByB7k6NpJgl",
        "outputId": "03253cb5-21c1-4c3f-fa2e-0f5f5d8f4c1b"
      },
      "execution_count": 11,
      "outputs": [
        {
          "output_type": "stream",
          "name": "stdout",
          "text": [
            "[[40.   1.   1.  ...  0.   0.   2. ]\n",
            " [49.   0.   2.  ...  0.   1.   1. ]\n",
            " [37.   1.   1.  ...  0.   0.   2. ]\n",
            " ...\n",
            " [57.   1.   0.  ...  1.   1.2  1. ]\n",
            " [57.   0.   1.  ...  0.   0.   1. ]\n",
            " [38.   1.   2.  ...  0.   0.   2. ]]\n"
          ]
        }
      ]
    },
    {
      "cell_type": "code",
      "source": [
        "X_train,X_test,y_train, y_test = train_test_split(X,y,test_size = 0.3 , random_state = 0 )"
      ],
      "metadata": {
        "id": "aOD6IfaepYSy"
      },
      "execution_count": 12,
      "outputs": []
    },
    {
      "cell_type": "code",
      "source": [
        "from sklearn.preprocessing import StandardScaler\n",
        "sc = StandardScaler()\n",
        "X_train = sc.fit_transform(X_train)\n",
        "X_test = sc.transform(X_test)"
      ],
      "metadata": {
        "id": "WR8UKdwdpjE9"
      },
      "execution_count": 13,
      "outputs": []
    },
    {
      "cell_type": "code",
      "source": [
        "classifier = Sequential()\n",
        "classifier.add(Dense(activation = \"relu\", input_dim = 11, \n",
        "                     units = 8, kernel_initializer = \"uniform\"))\n",
        "classifier.add(Dense(activation = \"relu\", units = 16, \n",
        "                     kernel_initializer = \"uniform\"))\n",
        "classifier.add(Dense(activation = \"sigmoid\", units = 1, \n",
        "                     kernel_initializer = \"uniform\"))\n",
        "classifier.compile(optimizer = 'adam' , loss = 'binary_crossentropy', \n",
        "                   metrics = ['accuracy'] )"
      ],
      "metadata": {
        "id": "1m5l-o5ip_4v"
      },
      "execution_count": 32,
      "outputs": []
    },
    {
      "cell_type": "code",
      "source": [
        "history = classifier.fit(X_train, y_train, batch_size=16, epochs=50, validation_data=(X_test, y_test))"
      ],
      "metadata": {
        "colab": {
          "base_uri": "https://localhost:8080/"
        },
        "id": "4zTW-u8DtL69",
        "outputId": "f8f04fed-a115-4e02-f226-d94e6f6940c8"
      },
      "execution_count": 33,
      "outputs": [
        {
          "output_type": "stream",
          "name": "stdout",
          "text": [
            "Epoch 1/50\n",
            "41/41 [==============================] - 1s 9ms/step - loss: 0.6921 - accuracy: 0.5249 - val_loss: 0.6868 - val_accuracy: 0.5906\n",
            "Epoch 2/50\n",
            "41/41 [==============================] - 0s 5ms/step - loss: 0.6743 - accuracy: 0.7399 - val_loss: 0.6427 - val_accuracy: 0.8514\n",
            "Epoch 3/50\n",
            "41/41 [==============================] - 0s 4ms/step - loss: 0.5998 - accuracy: 0.8364 - val_loss: 0.5305 - val_accuracy: 0.8514\n",
            "Epoch 4/50\n",
            "41/41 [==============================] - 0s 3ms/step - loss: 0.4773 - accuracy: 0.8396 - val_loss: 0.4164 - val_accuracy: 0.8551\n",
            "Epoch 5/50\n",
            "41/41 [==============================] - 0s 5ms/step - loss: 0.4007 - accuracy: 0.8427 - val_loss: 0.3762 - val_accuracy: 0.8442\n",
            "Epoch 6/50\n",
            "41/41 [==============================] - 0s 4ms/step - loss: 0.3755 - accuracy: 0.8458 - val_loss: 0.3643 - val_accuracy: 0.8406\n",
            "Epoch 7/50\n",
            "41/41 [==============================] - 0s 5ms/step - loss: 0.3648 - accuracy: 0.8474 - val_loss: 0.3609 - val_accuracy: 0.8370\n",
            "Epoch 8/50\n",
            "41/41 [==============================] - 0s 4ms/step - loss: 0.3582 - accuracy: 0.8520 - val_loss: 0.3602 - val_accuracy: 0.8370\n",
            "Epoch 9/50\n",
            "41/41 [==============================] - 0s 5ms/step - loss: 0.3526 - accuracy: 0.8551 - val_loss: 0.3599 - val_accuracy: 0.8370\n",
            "Epoch 10/50\n",
            "41/41 [==============================] - 0s 4ms/step - loss: 0.3490 - accuracy: 0.8614 - val_loss: 0.3583 - val_accuracy: 0.8370\n",
            "Epoch 11/50\n",
            "41/41 [==============================] - 0s 4ms/step - loss: 0.3449 - accuracy: 0.8583 - val_loss: 0.3617 - val_accuracy: 0.8406\n",
            "Epoch 12/50\n",
            "41/41 [==============================] - 0s 4ms/step - loss: 0.3409 - accuracy: 0.8598 - val_loss: 0.3609 - val_accuracy: 0.8478\n",
            "Epoch 13/50\n",
            "41/41 [==============================] - 0s 4ms/step - loss: 0.3379 - accuracy: 0.8629 - val_loss: 0.3618 - val_accuracy: 0.8478\n",
            "Epoch 14/50\n",
            "41/41 [==============================] - 0s 4ms/step - loss: 0.3355 - accuracy: 0.8660 - val_loss: 0.3607 - val_accuracy: 0.8514\n",
            "Epoch 15/50\n",
            "41/41 [==============================] - 0s 4ms/step - loss: 0.3335 - accuracy: 0.8660 - val_loss: 0.3611 - val_accuracy: 0.8514\n",
            "Epoch 16/50\n",
            "41/41 [==============================] - 0s 6ms/step - loss: 0.3311 - accuracy: 0.8629 - val_loss: 0.3633 - val_accuracy: 0.8514\n",
            "Epoch 17/50\n",
            "41/41 [==============================] - 0s 5ms/step - loss: 0.3281 - accuracy: 0.8645 - val_loss: 0.3627 - val_accuracy: 0.8478\n",
            "Epoch 18/50\n",
            "41/41 [==============================] - 0s 4ms/step - loss: 0.3269 - accuracy: 0.8645 - val_loss: 0.3614 - val_accuracy: 0.8478\n",
            "Epoch 19/50\n",
            "41/41 [==============================] - 0s 4ms/step - loss: 0.3239 - accuracy: 0.8645 - val_loss: 0.3598 - val_accuracy: 0.8406\n",
            "Epoch 20/50\n",
            "41/41 [==============================] - 0s 4ms/step - loss: 0.3222 - accuracy: 0.8676 - val_loss: 0.3599 - val_accuracy: 0.8406\n",
            "Epoch 21/50\n",
            "41/41 [==============================] - 0s 4ms/step - loss: 0.3207 - accuracy: 0.8645 - val_loss: 0.3631 - val_accuracy: 0.8406\n",
            "Epoch 22/50\n",
            "41/41 [==============================] - 0s 4ms/step - loss: 0.3185 - accuracy: 0.8692 - val_loss: 0.3630 - val_accuracy: 0.8442\n",
            "Epoch 23/50\n",
            "41/41 [==============================] - 0s 6ms/step - loss: 0.3173 - accuracy: 0.8707 - val_loss: 0.3630 - val_accuracy: 0.8406\n",
            "Epoch 24/50\n",
            "41/41 [==============================] - 0s 6ms/step - loss: 0.3159 - accuracy: 0.8723 - val_loss: 0.3633 - val_accuracy: 0.8442\n",
            "Epoch 25/50\n",
            "41/41 [==============================] - 0s 6ms/step - loss: 0.3149 - accuracy: 0.8738 - val_loss: 0.3650 - val_accuracy: 0.8406\n",
            "Epoch 26/50\n",
            "41/41 [==============================] - 0s 6ms/step - loss: 0.3136 - accuracy: 0.8738 - val_loss: 0.3669 - val_accuracy: 0.8406\n",
            "Epoch 27/50\n",
            "41/41 [==============================] - 0s 6ms/step - loss: 0.3125 - accuracy: 0.8723 - val_loss: 0.3642 - val_accuracy: 0.8406\n",
            "Epoch 28/50\n",
            "41/41 [==============================] - 0s 6ms/step - loss: 0.3114 - accuracy: 0.8723 - val_loss: 0.3648 - val_accuracy: 0.8406\n",
            "Epoch 29/50\n",
            "41/41 [==============================] - 0s 6ms/step - loss: 0.3097 - accuracy: 0.8707 - val_loss: 0.3627 - val_accuracy: 0.8406\n",
            "Epoch 30/50\n",
            "41/41 [==============================] - 0s 6ms/step - loss: 0.3090 - accuracy: 0.8707 - val_loss: 0.3634 - val_accuracy: 0.8406\n",
            "Epoch 31/50\n",
            "41/41 [==============================] - 0s 7ms/step - loss: 0.3068 - accuracy: 0.8754 - val_loss: 0.3617 - val_accuracy: 0.8478\n",
            "Epoch 32/50\n",
            "41/41 [==============================] - 0s 7ms/step - loss: 0.3060 - accuracy: 0.8754 - val_loss: 0.3611 - val_accuracy: 0.8442\n",
            "Epoch 33/50\n",
            "41/41 [==============================] - 0s 5ms/step - loss: 0.3050 - accuracy: 0.8754 - val_loss: 0.3622 - val_accuracy: 0.8442\n",
            "Epoch 34/50\n",
            "41/41 [==============================] - 0s 5ms/step - loss: 0.3042 - accuracy: 0.8754 - val_loss: 0.3622 - val_accuracy: 0.8514\n",
            "Epoch 35/50\n",
            "41/41 [==============================] - 0s 4ms/step - loss: 0.3039 - accuracy: 0.8785 - val_loss: 0.3622 - val_accuracy: 0.8514\n",
            "Epoch 36/50\n",
            "41/41 [==============================] - 0s 4ms/step - loss: 0.3021 - accuracy: 0.8785 - val_loss: 0.3623 - val_accuracy: 0.8478\n",
            "Epoch 37/50\n",
            "41/41 [==============================] - 0s 3ms/step - loss: 0.3013 - accuracy: 0.8785 - val_loss: 0.3603 - val_accuracy: 0.8478\n",
            "Epoch 38/50\n",
            "41/41 [==============================] - 0s 4ms/step - loss: 0.2999 - accuracy: 0.8769 - val_loss: 0.3629 - val_accuracy: 0.8442\n",
            "Epoch 39/50\n",
            "41/41 [==============================] - 0s 4ms/step - loss: 0.2989 - accuracy: 0.8769 - val_loss: 0.3607 - val_accuracy: 0.8514\n",
            "Epoch 40/50\n",
            "41/41 [==============================] - 0s 4ms/step - loss: 0.2986 - accuracy: 0.8754 - val_loss: 0.3627 - val_accuracy: 0.8442\n",
            "Epoch 41/50\n",
            "41/41 [==============================] - 0s 4ms/step - loss: 0.2970 - accuracy: 0.8754 - val_loss: 0.3612 - val_accuracy: 0.8478\n",
            "Epoch 42/50\n",
            "41/41 [==============================] - 0s 4ms/step - loss: 0.2998 - accuracy: 0.8832 - val_loss: 0.3607 - val_accuracy: 0.8478\n",
            "Epoch 43/50\n",
            "41/41 [==============================] - 0s 4ms/step - loss: 0.2963 - accuracy: 0.8738 - val_loss: 0.3632 - val_accuracy: 0.8442\n",
            "Epoch 44/50\n",
            "41/41 [==============================] - 0s 5ms/step - loss: 0.2950 - accuracy: 0.8738 - val_loss: 0.3610 - val_accuracy: 0.8514\n",
            "Epoch 45/50\n",
            "41/41 [==============================] - 0s 3ms/step - loss: 0.2944 - accuracy: 0.8769 - val_loss: 0.3608 - val_accuracy: 0.8514\n",
            "Epoch 46/50\n",
            "41/41 [==============================] - 0s 4ms/step - loss: 0.2929 - accuracy: 0.8738 - val_loss: 0.3608 - val_accuracy: 0.8478\n",
            "Epoch 47/50\n",
            "41/41 [==============================] - 0s 4ms/step - loss: 0.2928 - accuracy: 0.8738 - val_loss: 0.3593 - val_accuracy: 0.8551\n",
            "Epoch 48/50\n",
            "41/41 [==============================] - 0s 4ms/step - loss: 0.2923 - accuracy: 0.8801 - val_loss: 0.3602 - val_accuracy: 0.8514\n",
            "Epoch 49/50\n",
            "41/41 [==============================] - 0s 5ms/step - loss: 0.2906 - accuracy: 0.8754 - val_loss: 0.3610 - val_accuracy: 0.8478\n",
            "Epoch 50/50\n",
            "41/41 [==============================] - 0s 3ms/step - loss: 0.2907 - accuracy: 0.8801 - val_loss: 0.3570 - val_accuracy: 0.8587\n"
          ]
        }
      ]
    },
    {
      "cell_type": "code",
      "source": [
        "#history=classifier.fit(X_train , y_train , batch_size = 16 ,epochs = 100  )"
      ],
      "metadata": {
        "id": "kUoSCABNroKT"
      },
      "execution_count": null,
      "outputs": []
    },
    {
      "cell_type": "code",
      "source": [
        "def plot_history(history, key):\n",
        "  plt.plot(history.history[key])\n",
        "  plt.plot(history.history['val_'+key])\n",
        "  plt.xlabel(\"Epochs\")\n",
        "  plt.ylabel(key)\n",
        "  plt.legend([key, 'val_'+key])\n",
        "  plt.show()\n",
        "# Plot the history\n",
        "plot_history(history, 'accuracy')"
      ],
      "metadata": {
        "colab": {
          "base_uri": "https://localhost:8080/",
          "height": 283
        },
        "id": "OlqLqPY0s_1d",
        "outputId": "214ab134-51c7-482d-8418-1e54f289d55c"
      },
      "execution_count": 34,
      "outputs": [
        {
          "output_type": "display_data",
          "data": {
            "text/plain": [
              "<Figure size 432x288 with 1 Axes>"
            ],
            "image/png": "[encoded data removed]"
          },
          "metadata": {
            "needs_background": "light"
          }
        }
      ]
    },
    {
      "cell_type": "markdown",
      "source": [
        "#After adding batch normalization:"
      ],
      "metadata": {
        "id": "_AqlM0MCtFPy"
      }
    },
    {
      "cell_type": "code",
      "source": [
        "from keras.models import Sequential\n",
        "from keras.layers import Dense, BatchNormalization\n",
        "\n",
        "# define the model\n",
        "classifier = Sequential()\n",
        "\n",
        "# add the first hidden layer with batch normalization\n",
        "classifier.add(Dense(units=8, activation='relu', input_dim=11, kernel_initializer='uniform'))\n",
        "classifier.add(BatchNormalization())\n",
        "\n",
        "# add the second hidden layer with batch normalization\n",
        "classifier.add(Dense(units=16, activation='relu', kernel_initializer='uniform'))\n",
        "classifier.add(BatchNormalization())\n",
        "\n",
        "# add the output layer with sigmoid activation function\n",
        "classifier.add(Dense(units=1, activation='sigmoid', kernel_initializer='uniform'))\n",
        "\n",
        "# compile the model\n",
        "classifier.compile(optimizer='rmsprop', loss='binary_crossentropy', metrics=['accuracy'])"
      ],
      "metadata": {
        "id": "cRxSaujJrwH6"
      },
      "execution_count": 29,
      "outputs": []
    },
    {
      "cell_type": "code",
      "source": [
        "history2 = classifier.fit(X_train, y_train, batch_size=16, epochs=50, validation_data=(X_test, y_test))"
      ],
      "metadata": {
        "colab": {
          "base_uri": "https://localhost:8080/"
        },
        "id": "Etr7zWvStUZP",
        "outputId": "3d6c747d-74ab-46d4-edc9-f5b242d847fc"
      },
      "execution_count": 30,
      "outputs": [
        {
          "output_type": "stream",
          "name": "stdout",
          "text": [
            "Epoch 1/50\n",
            "41/41 [==============================] - 2s 10ms/step - loss: 0.5858 - accuracy: 0.7866 - val_loss: 0.6860 - val_accuracy: 0.5906\n",
            "Epoch 2/50\n",
            "41/41 [==============================] - 0s 5ms/step - loss: 0.4476 - accuracy: 0.8318 - val_loss: 0.6735 - val_accuracy: 0.6014\n",
            "Epoch 3/50\n",
            "41/41 [==============================] - 0s 4ms/step - loss: 0.3921 - accuracy: 0.8427 - val_loss: 0.6551 - val_accuracy: 0.6159\n",
            "Epoch 4/50\n",
            "41/41 [==============================] - 0s 4ms/step - loss: 0.3683 - accuracy: 0.8567 - val_loss: 0.6353 - val_accuracy: 0.7283\n",
            "Epoch 5/50\n",
            "41/41 [==============================] - 0s 5ms/step - loss: 0.3757 - accuracy: 0.8474 - val_loss: 0.6082 - val_accuracy: 0.7935\n",
            "Epoch 6/50\n",
            "41/41 [==============================] - 0s 5ms/step - loss: 0.3576 - accuracy: 0.8723 - val_loss: 0.5821 - val_accuracy: 0.7935\n",
            "Epoch 7/50\n",
            "41/41 [==============================] - 0s 4ms/step - loss: 0.3448 - accuracy: 0.8692 - val_loss: 0.5377 - val_accuracy: 0.8297\n",
            "Epoch 8/50\n",
            "41/41 [==============================] - 0s 5ms/step - loss: 0.3453 - accuracy: 0.8567 - val_loss: 0.5012 - val_accuracy: 0.8442\n",
            "Epoch 9/50\n",
            "41/41 [==============================] - 0s 5ms/step - loss: 0.3272 - accuracy: 0.8676 - val_loss: 0.4632 - val_accuracy: 0.8514\n",
            "Epoch 10/50\n",
            "41/41 [==============================] - 0s 5ms/step - loss: 0.3334 - accuracy: 0.8598 - val_loss: 0.4187 - val_accuracy: 0.8514\n",
            "Epoch 11/50\n",
            "41/41 [==============================] - 0s 4ms/step - loss: 0.3223 - accuracy: 0.8847 - val_loss: 0.3799 - val_accuracy: 0.8514\n",
            "Epoch 12/50\n",
            "41/41 [==============================] - 0s 5ms/step - loss: 0.3270 - accuracy: 0.8801 - val_loss: 0.3657 - val_accuracy: 0.8478\n",
            "Epoch 13/50\n",
            "41/41 [==============================] - 0s 5ms/step - loss: 0.3102 - accuracy: 0.8910 - val_loss: 0.3503 - val_accuracy: 0.8587\n",
            "Epoch 14/50\n",
            "41/41 [==============================] - 0s 5ms/step - loss: 0.3126 - accuracy: 0.8801 - val_loss: 0.3552 - val_accuracy: 0.8478\n",
            "Epoch 15/50\n",
            "41/41 [==============================] - 0s 5ms/step - loss: 0.3271 - accuracy: 0.8754 - val_loss: 0.3418 - val_accuracy: 0.8804\n",
            "Epoch 16/50\n",
            "41/41 [==============================] - 0s 5ms/step - loss: 0.3057 - accuracy: 0.8972 - val_loss: 0.3429 - val_accuracy: 0.8587\n",
            "Epoch 17/50\n",
            "41/41 [==============================] - 0s 4ms/step - loss: 0.2910 - accuracy: 0.8925 - val_loss: 0.3527 - val_accuracy: 0.8587\n",
            "Epoch 18/50\n",
            "41/41 [==============================] - 0s 4ms/step - loss: 0.3209 - accuracy: 0.8863 - val_loss: 0.3503 - val_accuracy: 0.8623\n",
            "Epoch 19/50\n",
            "41/41 [==============================] - 0s 4ms/step - loss: 0.2925 - accuracy: 0.8879 - val_loss: 0.3544 - val_accuracy: 0.8659\n",
            "Epoch 20/50\n",
            "41/41 [==============================] - 0s 5ms/step - loss: 0.3170 - accuracy: 0.8941 - val_loss: 0.3680 - val_accuracy: 0.8587\n",
            "Epoch 21/50\n",
            "41/41 [==============================] - 0s 5ms/step - loss: 0.2820 - accuracy: 0.9034 - val_loss: 0.3847 - val_accuracy: 0.8514\n",
            "Epoch 22/50\n",
            "41/41 [==============================] - 0s 4ms/step - loss: 0.3019 - accuracy: 0.8863 - val_loss: 0.3674 - val_accuracy: 0.8587\n",
            "Epoch 23/50\n",
            "41/41 [==============================] - 0s 4ms/step - loss: 0.3071 - accuracy: 0.8894 - val_loss: 0.3750 - val_accuracy: 0.8478\n",
            "Epoch 24/50\n",
            "41/41 [==============================] - 0s 4ms/step - loss: 0.3015 - accuracy: 0.8925 - val_loss: 0.3795 - val_accuracy: 0.8442\n",
            "Epoch 25/50\n",
            "41/41 [==============================] - 0s 4ms/step - loss: 0.3005 - accuracy: 0.8941 - val_loss: 0.3875 - val_accuracy: 0.8478\n",
            "Epoch 26/50\n",
            "41/41 [==============================] - 0s 5ms/step - loss: 0.2896 - accuracy: 0.8941 - val_loss: 0.3760 - val_accuracy: 0.8623\n",
            "Epoch 27/50\n",
            "41/41 [==============================] - 0s 4ms/step - loss: 0.2961 - accuracy: 0.8832 - val_loss: 0.3844 - val_accuracy: 0.8442\n",
            "Epoch 28/50\n",
            "41/41 [==============================] - 0s 5ms/step - loss: 0.2722 - accuracy: 0.9019 - val_loss: 0.3798 - val_accuracy: 0.8623\n",
            "Epoch 29/50\n",
            "41/41 [==============================] - 0s 5ms/step - loss: 0.2907 - accuracy: 0.8847 - val_loss: 0.3897 - val_accuracy: 0.8514\n",
            "Epoch 30/50\n",
            "41/41 [==============================] - 0s 5ms/step - loss: 0.2892 - accuracy: 0.8941 - val_loss: 0.3877 - val_accuracy: 0.8551\n",
            "Epoch 31/50\n",
            "41/41 [==============================] - 0s 4ms/step - loss: 0.2732 - accuracy: 0.9019 - val_loss: 0.3891 - val_accuracy: 0.8696\n",
            "Epoch 32/50\n",
            "41/41 [==============================] - 0s 5ms/step - loss: 0.2582 - accuracy: 0.9034 - val_loss: 0.4379 - val_accuracy: 0.8478\n",
            "Epoch 33/50\n",
            "41/41 [==============================] - 0s 5ms/step - loss: 0.2797 - accuracy: 0.8988 - val_loss: 0.3997 - val_accuracy: 0.8514\n",
            "Epoch 34/50\n",
            "41/41 [==============================] - 0s 4ms/step - loss: 0.2749 - accuracy: 0.8847 - val_loss: 0.3916 - val_accuracy: 0.8659\n",
            "Epoch 35/50\n",
            "41/41 [==============================] - 0s 5ms/step - loss: 0.3134 - accuracy: 0.8801 - val_loss: 0.3795 - val_accuracy: 0.8623\n",
            "Epoch 36/50\n",
            "41/41 [==============================] - 0s 5ms/step - loss: 0.2628 - accuracy: 0.8972 - val_loss: 0.4152 - val_accuracy: 0.8514\n",
            "Epoch 37/50\n",
            "41/41 [==============================] - 0s 4ms/step - loss: 0.2560 - accuracy: 0.9003 - val_loss: 0.4118 - val_accuracy: 0.8551\n",
            "Epoch 38/50\n",
            "41/41 [==============================] - 0s 5ms/step - loss: 0.2623 - accuracy: 0.8988 - val_loss: 0.4248 - val_accuracy: 0.8514\n",
            "Epoch 39/50\n",
            "41/41 [==============================] - 0s 4ms/step - loss: 0.2685 - accuracy: 0.9050 - val_loss: 0.4217 - val_accuracy: 0.8659\n",
            "Epoch 40/50\n",
            "41/41 [==============================] - 0s 5ms/step - loss: 0.2743 - accuracy: 0.8941 - val_loss: 0.3982 - val_accuracy: 0.8551\n",
            "Epoch 41/50\n",
            "41/41 [==============================] - 0s 7ms/step - loss: 0.2465 - accuracy: 0.9128 - val_loss: 0.4283 - val_accuracy: 0.8551\n",
            "Epoch 42/50\n",
            "41/41 [==============================] - 0s 6ms/step - loss: 0.2384 - accuracy: 0.9174 - val_loss: 0.4413 - val_accuracy: 0.8442\n",
            "Epoch 43/50\n",
            "41/41 [==============================] - 0s 6ms/step - loss: 0.2820 - accuracy: 0.8910 - val_loss: 0.4567 - val_accuracy: 0.8188\n",
            "Epoch 44/50\n",
            "41/41 [==============================] - 0s 6ms/step - loss: 0.2588 - accuracy: 0.9065 - val_loss: 0.4456 - val_accuracy: 0.8370\n",
            "Epoch 45/50\n",
            "41/41 [==============================] - 0s 6ms/step - loss: 0.2523 - accuracy: 0.9065 - val_loss: 0.4424 - val_accuracy: 0.8514\n",
            "Epoch 46/50\n",
            "41/41 [==============================] - 0s 6ms/step - loss: 0.2501 - accuracy: 0.9143 - val_loss: 0.4491 - val_accuracy: 0.8514\n",
            "Epoch 47/50\n",
            "41/41 [==============================] - 0s 6ms/step - loss: 0.2627 - accuracy: 0.8956 - val_loss: 0.4494 - val_accuracy: 0.8478\n",
            "Epoch 48/50\n",
            "41/41 [==============================] - 0s 7ms/step - loss: 0.2563 - accuracy: 0.9034 - val_loss: 0.4556 - val_accuracy: 0.8551\n",
            "Epoch 49/50\n",
            "41/41 [==============================] - 0s 7ms/step - loss: 0.2843 - accuracy: 0.8925 - val_loss: 0.4567 - val_accuracy: 0.8551\n",
            "Epoch 50/50\n",
            "41/41 [==============================] - 0s 7ms/step - loss: 0.2297 - accuracy: 0.9174 - val_loss: 0.4898 - val_accuracy: 0.8261\n"
          ]
        }
      ]
    },
    {
      "cell_type": "code",
      "source": [
        "def plot_history(history2, key):\n",
        "  plt.plot(history2.history[key])\n",
        "  plt.plot(history2.history['val_'+key])\n",
        "  plt.xlabel(\"Epochs\")\n",
        "  plt.ylabel(key)\n",
        "  plt.legend([key, 'val_'+key])\n",
        "  plt.show()\n",
        "# Plot the history\n",
        "plot_history(history2, 'accuracy')"
      ],
      "metadata": {
        "colab": {
          "base_uri": "https://localhost:8080/",
          "height": 279
        },
        "id": "NpJqFzBnuE7O",
        "outputId": "c697637d-df89-4d46-b8e5-af39cf70320f"
      },
      "execution_count": 31,
      "outputs": [
        {
          "output_type": "display_data",
          "data": {
            "text/plain": [
              "<Figure size 432x288 with 1 Axes>"
            ],
            "image/png": "[encoded data removed]"
          },
          "metadata": {
            "needs_background": "light"
          }
        }
      ]
    },
    {
      "cell_type": "markdown",
      "source": [
        "After adding batch normalization on ANN , we can see the following effects:\n",
        "\n",
        "* **Faster convergence**:By normalizing the inputs to each layer, Batch normalization allows the network to more easily learn the weights and biases required to perform the task. \n",
        "*  **Better generalization**: it reduces overfitting by adding noise to the input data and thus making the network less sensitive to small changes in the input, improving its ability to generalize to new data .\n",
        "* **Reduced dependence on initialization**: It reduces the dependence of the network on the initial values of the weights and biases and helps it become more robust to changes in the data distribution.\n",
        "* **Higher learning rates**:Enables the use of higher learning rates, which can accelerate the training process and improve the final performance of the network.\n",
        "* **Stable gradients** :The probelm of vanishing and exploding gradients is reduced by batch normalization by stabilizing mean and variance of activation\n",
        "\n",
        "\n",
        "\n",
        "\n",
        "\n"
      ],
      "metadata": {
        "id": "Y0uAZBKQuFSP"
      }
    },
    {
      "cell_type": "markdown",
      "source": [
        "#Fashion mnist dataset"
      ],
      "metadata": {
        "id": "cg2uXRl6vdfj"
      }
    },
    {
      "cell_type": "code",
      "source": [
        "import tensorflow as tf\n",
        "from tensorflow import keras\n",
        "from tensorflow.keras import layers\n",
        "\n",
        "# Load the Fashion MNIST dataset\n",
        "(x_train, y_train), (x_test, y_test) = keras.datasets.fashion_mnist.load_data()\n",
        "\n",
        "# Preprocess the data\n",
        "x_train = x_train.astype(\"float32\") / 255.0\n",
        "x_test = x_test.astype(\"float32\") / 255.0\n"
      ],
      "metadata": {
        "id": "l1R0V0h4LCFp"
      },
      "execution_count": 8,
      "outputs": []
    },
    {
      "cell_type": "code",
      "source": [
        "model = keras.Sequential([\n",
        "    layers.Flatten(input_shape=(28, 28)),\n",
        "    layers.Dense(128, activation=\"relu\"),\n",
        "    layers.Dense(10,activation='softmax')\n",
        "])"
      ],
      "metadata": {
        "id": "pYzAnWrGQYnt"
      },
      "execution_count": null,
      "outputs": []
    },
    {
      "cell_type": "code",
      "source": [
        "# Compile the model\n",
        "model.compile(\n",
        "    optimizer=\"adam\",\n",
        "    loss=tf.keras.losses.SparseCategoricalCrossentropy(from_logits=True),\n",
        "    metrics=[\"accuracy\"],\n",
        ")"
      ],
      "metadata": {
        "id": "PrypsCfvQguX"
      },
      "execution_count": null,
      "outputs": []
    },
    {
      "cell_type": "code",
      "source": [
        "history4 = model.fit(x_train, y_train, batch_size=16, epochs=20, validation_data=(x_test, y_test))"
      ],
      "metadata": {
        "colab": {
          "base_uri": "https://localhost:8080/"
        },
        "id": "bf2LXOezLTD1",
        "outputId": "f3720b9b-2670-478f-ad17-1229d0695267"
      },
      "execution_count": 10,
      "outputs": [
        {
          "output_type": "stream",
          "name": "stdout",
          "text": [
            "Epoch 1/20\n",
            "3750/3750 [==============================] - 22s 6ms/step - loss: 0.3967 - accuracy: 0.8568 - val_loss: 0.3874 - val_accuracy: 0.8629\n",
            "Epoch 2/20\n",
            "3750/3750 [==============================] - 21s 6ms/step - loss: 0.3431 - accuracy: 0.8731 - val_loss: 0.3891 - val_accuracy: 0.8613\n",
            "Epoch 3/20\n",
            "3750/3750 [==============================] - 24s 6ms/step - loss: 0.3163 - accuracy: 0.8843 - val_loss: 0.3727 - val_accuracy: 0.8666\n",
            "Epoch 4/20\n",
            "3750/3750 [==============================] - 30s 8ms/step - loss: 0.2964 - accuracy: 0.8892 - val_loss: 0.3689 - val_accuracy: 0.8674\n",
            "Epoch 5/20\n",
            "3750/3750 [==============================] - 22s 6ms/step - loss: 0.2823 - accuracy: 0.8945 - val_loss: 0.3458 - val_accuracy: 0.8771\n",
            "Epoch 6/20\n",
            "3750/3750 [==============================] - 23s 6ms/step - loss: 0.2685 - accuracy: 0.9004 - val_loss: 0.3746 - val_accuracy: 0.8680\n",
            "Epoch 7/20\n",
            "3750/3750 [==============================] - 20s 5ms/step - loss: 0.2570 - accuracy: 0.9041 - val_loss: 0.3639 - val_accuracy: 0.8753\n",
            "Epoch 8/20\n",
            "3750/3750 [==============================] - 21s 6ms/step - loss: 0.2487 - accuracy: 0.9077 - val_loss: 0.3514 - val_accuracy: 0.8743\n",
            "Epoch 9/20\n",
            "3750/3750 [==============================] - 22s 6ms/step - loss: 0.2406 - accuracy: 0.9100 - val_loss: 0.3439 - val_accuracy: 0.8803\n",
            "Epoch 10/20\n",
            "3750/3750 [==============================] - 25s 7ms/step - loss: 0.2334 - accuracy: 0.9123 - val_loss: 0.3402 - val_accuracy: 0.8831\n",
            "Epoch 11/20\n",
            "3750/3750 [==============================] - 21s 6ms/step - loss: 0.2246 - accuracy: 0.9157 - val_loss: 0.3536 - val_accuracy: 0.8828\n",
            "Epoch 12/20\n",
            "3750/3750 [==============================] - 21s 6ms/step - loss: 0.2174 - accuracy: 0.9184 - val_loss: 0.3580 - val_accuracy: 0.8809\n",
            "Epoch 13/20\n",
            "3750/3750 [==============================] - 20s 5ms/step - loss: 0.2113 - accuracy: 0.9208 - val_loss: 0.3366 - val_accuracy: 0.8860\n",
            "Epoch 14/20\n",
            "3750/3750 [==============================] - 23s 6ms/step - loss: 0.2070 - accuracy: 0.9225 - val_loss: 0.3538 - val_accuracy: 0.8854\n",
            "Epoch 15/20\n",
            "3750/3750 [==============================] - 23s 6ms/step - loss: 0.1997 - accuracy: 0.9251 - val_loss: 0.3645 - val_accuracy: 0.8826\n",
            "Epoch 16/20\n",
            "3750/3750 [==============================] - 22s 6ms/step - loss: 0.1949 - accuracy: 0.9268 - val_loss: 0.3685 - val_accuracy: 0.8809\n",
            "Epoch 17/20\n",
            "3750/3750 [==============================] - 21s 6ms/step - loss: 0.1907 - accuracy: 0.9287 - val_loss: 0.3939 - val_accuracy: 0.8761\n",
            "Epoch 18/20\n",
            "3750/3750 [==============================] - 23s 6ms/step - loss: 0.1870 - accuracy: 0.9293 - val_loss: 0.3596 - val_accuracy: 0.8850\n",
            "Epoch 19/20\n",
            "3750/3750 [==============================] - 37s 10ms/step - loss: 0.1819 - accuracy: 0.9315 - val_loss: 0.4140 - val_accuracy: 0.8756\n",
            "Epoch 20/20\n",
            "3750/3750 [==============================] - 27s 7ms/step - loss: 0.1773 - accuracy: 0.9334 - val_loss: 0.3661 - val_accuracy: 0.8888\n"
          ]
        }
      ]
    },
    {
      "cell_type": "code",
      "source": [
        "def plot_history(history4, key):\n",
        "  plt.plot(history4.history[key])\n",
        "  plt.plot(history4.history['val_'+key])\n",
        "  plt.xlabel(\"Epochs\")\n",
        "  plt.ylabel(key)\n",
        "  plt.legend([key, 'val_'+key])\n",
        "  plt.show()\n",
        "# Plot the history\n",
        "plot_history(history4, 'accuracy')"
      ],
      "metadata": {
        "colab": {
          "base_uri": "https://localhost:8080/",
          "height": 279
        },
        "id": "CDXOYV0NMEob",
        "outputId": "3726aaeb-d868-4e08-ee21-c9ab09d837fe"
      },
      "execution_count": 11,
      "outputs": [
        {
          "output_type": "display_data",
          "data": {
            "text/plain": [
              "<Figure size 432x288 with 1 Axes>"
            ],
            "image/png": "[encoded data removed]"
          },
          "metadata": {
            "needs_background": "light"
          }
        }
      ]
    },
    {
      "cell_type": "code",
      "source": [
        "# Evaluate the model\n",
        "test_loss, test_acc = model.evaluate(x_test, y_test, verbose=2)\n",
        "print(\"\\nTest accuracy:\", test_acc)"
      ],
      "metadata": {
        "colab": {
          "base_uri": "https://localhost:8080/"
        },
        "id": "WahibE7wLKNF",
        "outputId": "90fb9b9d-2bd9-4c4b-d22e-ebfa99d0497a"
      },
      "execution_count": 12,
      "outputs": [
        {
          "output_type": "stream",
          "name": "stderr",
          "text": [
            "/usr/local/lib/python3.8/dist-packages/keras/backend.py:5585: UserWarning: \"`sparse_categorical_crossentropy` received `from_logits=True`, but the `output` argument was produced by a Softmax activation and thus does not represent logits. Was this intended?\n",
            "  output, from_logits = _get_logits(\n"
          ]
        },
        {
          "output_type": "stream",
          "name": "stdout",
          "text": [
            "313/313 - 1s - loss: 0.3661 - accuracy: 0.8888 - 844ms/epoch - 3ms/step\n",
            "\n",
            "Test accuracy: 0.8888000249862671\n"
          ]
        }
      ]
    },
    {
      "cell_type": "markdown",
      "source": [
        "**After applying batch normalization**"
      ],
      "metadata": {
        "id": "ukUJR5gEMv4Z"
      }
    },
    {
      "cell_type": "code",
      "source": [
        "model = keras.Sequential([\n",
        "    layers.Flatten(input_shape=(28, 28)),\n",
        "    layers.Dense(128),\n",
        "    layers.BatchNormalization(),\n",
        "    layers.Activation('relu'),\n",
        "    layers.Dense(10),\n",
        "    layers.BatchNormalization(),\n",
        "    layers.Activation('softmax')\n",
        "])"
      ],
      "metadata": {
        "id": "LqedSGyJNTZQ"
      },
      "execution_count": 19,
      "outputs": []
    },
    {
      "cell_type": "code",
      "source": [
        "# Compile the model\n",
        "model.compile(\n",
        "    optimizer=\"rmsprop\",\n",
        "    loss=tf.keras.losses.SparseCategoricalCrossentropy(from_logits=False),\n",
        "    metrics=[\"accuracy\"],\n",
        ")"
      ],
      "metadata": {
        "id": "NO6mvvilNTbD"
      },
      "execution_count": 21,
      "outputs": []
    },
    {
      "cell_type": "code",
      "source": [
        "# Train the model\n",
        "history_new=model.fit(x_train, y_train, epochs=15, validation_data=(x_test, y_test))"
      ],
      "metadata": {
        "colab": {
          "base_uri": "https://localhost:8080/"
        },
        "id": "tUyf_fGcNgy3",
        "outputId": "dc03875c-9483-41bd-a889-30bcec6395f5"
      },
      "execution_count": 22,
      "outputs": [
        {
          "output_type": "stream",
          "name": "stdout",
          "text": [
            "Epoch 1/15\n",
            "1875/1875 [==============================] - 12s 6ms/step - loss: 0.6235 - accuracy: 0.8198 - val_loss: 0.4944 - val_accuracy: 0.8331\n",
            "Epoch 2/15\n",
            "1875/1875 [==============================] - 11s 6ms/step - loss: 0.4468 - accuracy: 0.8547 - val_loss: 0.4441 - val_accuracy: 0.8528\n",
            "Epoch 3/15\n",
            "1875/1875 [==============================] - 12s 7ms/step - loss: 0.3918 - accuracy: 0.8678 - val_loss: 0.4037 - val_accuracy: 0.8584\n",
            "Epoch 4/15\n",
            "1875/1875 [==============================] - 15s 8ms/step - loss: 0.3592 - accuracy: 0.8773 - val_loss: 0.3751 - val_accuracy: 0.8694\n",
            "Epoch 5/15\n",
            "1875/1875 [==============================] - 16s 8ms/step - loss: 0.3356 - accuracy: 0.8843 - val_loss: 0.4162 - val_accuracy: 0.8606\n",
            "Epoch 6/15\n",
            "1875/1875 [==============================] - 12s 6ms/step - loss: 0.3167 - accuracy: 0.8902 - val_loss: 0.3643 - val_accuracy: 0.8742\n",
            "Epoch 7/15\n",
            "1875/1875 [==============================] - 15s 8ms/step - loss: 0.3042 - accuracy: 0.8938 - val_loss: 0.3963 - val_accuracy: 0.8624\n",
            "Epoch 8/15\n",
            "1875/1875 [==============================] - 13s 7ms/step - loss: 0.2900 - accuracy: 0.8993 - val_loss: 0.3547 - val_accuracy: 0.8775\n",
            "Epoch 9/15\n",
            "1875/1875 [==============================] - 12s 6ms/step - loss: 0.2829 - accuracy: 0.9017 - val_loss: 0.3567 - val_accuracy: 0.8788\n",
            "Epoch 10/15\n",
            "1875/1875 [==============================] - 13s 7ms/step - loss: 0.2724 - accuracy: 0.9044 - val_loss: 0.3510 - val_accuracy: 0.8832\n",
            "Epoch 11/15\n",
            "1875/1875 [==============================] - 12s 6ms/step - loss: 0.2634 - accuracy: 0.9069 - val_loss: 0.3626 - val_accuracy: 0.8820\n",
            "Epoch 12/15\n",
            "1875/1875 [==============================] - 13s 7ms/step - loss: 0.2529 - accuracy: 0.9113 - val_loss: 0.3463 - val_accuracy: 0.8857\n",
            "Epoch 13/15\n",
            "1875/1875 [==============================] - 11s 6ms/step - loss: 0.2506 - accuracy: 0.9119 - val_loss: 0.3679 - val_accuracy: 0.8763\n",
            "Epoch 14/15\n",
            "1875/1875 [==============================] - 11s 6ms/step - loss: 0.2432 - accuracy: 0.9157 - val_loss: 0.3743 - val_accuracy: 0.8799\n",
            "Epoch 15/15\n",
            "1875/1875 [==============================] - 12s 6ms/step - loss: 0.2362 - accuracy: 0.9169 - val_loss: 0.3521 - val_accuracy: 0.8815\n"
          ]
        }
      ]
    },
    {
      "cell_type": "code",
      "source": [
        "# Evaluate the model\n",
        "test_loss, test_acc = model.evaluate(x_test, y_test, verbose=2)\n",
        "print(\"\\nTest accuracy:\", test_acc)"
      ],
      "metadata": {
        "colab": {
          "base_uri": "https://localhost:8080/"
        },
        "id": "7L8lWdL7Noqr",
        "outputId": "bbca2a5b-a810-449a-851c-3340a183255f"
      },
      "execution_count": 23,
      "outputs": [
        {
          "output_type": "stream",
          "name": "stdout",
          "text": [
            "313/313 - 1s - loss: 0.3521 - accuracy: 0.8815 - 629ms/epoch - 2ms/step\n",
            "\n",
            "Test accuracy: 0.8815000057220459\n"
          ]
        }
      ]
    },
    {
      "cell_type": "code",
      "source": [
        "def plot_history(history_new, key):\n",
        "  plt.plot(history_new.history[key])\n",
        "  plt.plot(history_new.history['val_'+key])\n",
        "  plt.xlabel(\"Epochs\")\n",
        "  plt.ylabel(key)\n",
        "  plt.legend([key, 'val_'+key])\n",
        "  plt.show()\n",
        "# Plot the history\n",
        "plot_history(history_new, 'accuracy')"
      ],
      "metadata": {
        "colab": {
          "base_uri": "https://localhost:8080/",
          "height": 279
        },
        "outputId": "c697637d-df89-4d46-b8e5-af39cf70320f",
        "id": "03FOR711UMf3"
      },
      "execution_count": null,
      "outputs": [
        {
          "output_type": "display_data",
          "data": {
            "text/plain": [
              "<Figure size 432x288 with 1 Axes>"
            ],
            "image/png": "[encoded data removed]"
          },
          "metadata": {
            "needs_background": "light"
          }
        }
      ]
    },
    {
      "cell_type": "markdown",
      "source": [
        "**After applying Batch normalization**:\n",
        "whether the model overfits or underfits after applying batch normalization depends on a variety of factors, such as the size of the model, the amount of regularization used, and the complexity of the dataset. In general, however, batch normalization can help to reduce overfitting by improving the training stability and reducing the internal covariate shift and reducing the problem of exploding and vanishing gradient descent. So it is more likely that the model will underfit rather than overfit after applying batch normalization, especially if the regularization is not too strong.\n",
        "\n",
        "**The batch normalization in this dataset also shows the same effect as mentioned above in the heart dataset**"
      ],
      "metadata": {
        "id": "LzyynElRPqs5"
      }
    }
  ]
}